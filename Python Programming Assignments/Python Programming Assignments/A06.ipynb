{
 "cells": [
  {
   "cell_type": "markdown",
   "metadata": {},
   "source": [
    "### 1) Write a python program to display fibonacci sequence using Recursion"
   ]
  },
  {
   "cell_type": "code",
   "execution_count": 21,
   "metadata": {},
   "outputs": [
    {
     "name": "stdout",
     "output_type": "stream",
     "text": [
      "fibonacci sequence till 10 is:\n",
      "0,1,1,2,3,5,8,13,21,34,55,"
     ]
    }
   ],
   "source": [
    "def fibonacci(n):\n",
    "    if n == 0:\n",
    "        return 0\n",
    "    elif n == 1:\n",
    "        return 1\n",
    "    else:\n",
    "        fib = fibonacci(n - 1) + fibonacci(n - 2)\n",
    "        return fib\n",
    "\n",
    "    \n",
    "def main(number:int):\n",
    "    print(f\"fibonacci sequence till {number} is:\")\n",
    "    for i in range(number+1):\n",
    "        print(fibonacci(i),end=',')\n",
    "    \n",
    "main(10)"
   ]
  },
  {
   "cell_type": "markdown",
   "metadata": {},
   "source": [
    "### 2) Write a Python program to find factorial of number using Recursion ?"
   ]
  },
  {
   "cell_type": "code",
   "execution_count": 22,
   "metadata": {},
   "outputs": [
    {
     "name": "stdout",
     "output_type": "stream",
     "text": [
      "Enter number = 5\n",
      "Factorial of 5 is 120\n"
     ]
    }
   ],
   "source": [
    "# python program to find factorial\n",
    "\n",
    "# factorial function\n",
    "def fact(n):\n",
    "    if n <= 1:\n",
    "        return 1\n",
    "    else:\n",
    "        return n*fact(n-1)\n",
    "\n",
    "num = int(input(\"Enter number = \"))\n",
    "print(\"Factorial of\",num,\"is\",fact(num))"
   ]
  },
  {
   "cell_type": "markdown",
   "metadata": {},
   "source": [
    "### 3) Write a Python Program to calculate your Body Mass Index"
   ]
  },
  {
   "cell_type": "code",
   "execution_count": 23,
   "metadata": {},
   "outputs": [
    {
     "name": "stdout",
     "output_type": "stream",
     "text": [
      "Input your height in Feet: 5.8\n",
      "Input your weight in Kilogram: 52\n",
      "Your body mass index is:  1.55\n"
     ]
    }
   ],
   "source": [
    "# body mass index of the person using BMI formula\n",
    "\n",
    "height = float(input(\"Input your height in Feet: \"))\n",
    "weight = float(input(\"Input your weight in Kilogram: \"))\n",
    "print(\"Your body mass index is: \", round(weight / (height * height), 2))"
   ]
  },
  {
   "cell_type": "markdown",
   "metadata": {},
   "source": [
    "### 4) Write a python program to calculate the natural logarithm of any number"
   ]
  },
  {
   "cell_type": "code",
   "execution_count": 24,
   "metadata": {},
   "outputs": [
    {
     "name": "stdout",
     "output_type": "stream",
     "text": [
      "Enter a number = 2\n",
      "log of the number 2 is 0.6931471805599453\n"
     ]
    }
   ],
   "source": [
    "# program to calculate logarithm of a number using log functionn\n",
    "import math\n",
    "num = int(input(\"Enter a number = \"))\n",
    "\n",
    "print(\"log of the number\",num,'is',math.log(num))"
   ]
  },
  {
   "cell_type": "markdown",
   "metadata": {},
   "source": [
    "### 5) Write a Python Program for cube sum of first n natural numbers?"
   ]
  },
  {
   "cell_type": "code",
   "execution_count": 25,
   "metadata": {},
   "outputs": [
    {
     "name": "stdout",
     "output_type": "stream",
     "text": [
      "Enter the number of natural number = 10\n",
      "Sum of cube of 10 natural number is3025\n"
     ]
    }
   ],
   "source": [
    "\n",
    "num = int(input(\"Enter the number of natural number = \"))\n",
    "\n",
    "addition = 0\n",
    "for n in range(1,num+1):\n",
    "    addition = addition + n**3\n",
    "    \n",
    "print(f\"Sum of cube of {num} natural number is{addition}\")"
   ]
  },
  {
   "cell_type": "code",
   "execution_count": null,
   "metadata": {},
   "outputs": [],
   "source": []
  }
 ],
 "metadata": {
  "kernelspec": {
   "display_name": "Python 3 (ipykernel)",
   "language": "python",
   "name": "python3"
  },
  "language_info": {
   "codemirror_mode": {
    "name": "ipython",
    "version": 3
   },
   "file_extension": ".py",
   "mimetype": "text/x-python",
   "name": "python",
   "nbconvert_exporter": "python",
   "pygments_lexer": "ipython3",
   "version": "3.9.12"
  }
 },
 "nbformat": 4,
 "nbformat_minor": 4
}
