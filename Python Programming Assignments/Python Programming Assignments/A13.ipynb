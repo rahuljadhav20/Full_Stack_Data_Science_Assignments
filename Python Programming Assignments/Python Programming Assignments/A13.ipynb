{
 "cells": [
  {
   "cell_type": "markdown",
   "id": "52a67834",
   "metadata": {},
   "source": [
    "### 1. Write a program that calculates and prints the value according to the given formula:"
   ]
  },
  {
   "cell_type": "code",
   "execution_count": 1,
   "id": "a14805fd",
   "metadata": {},
   "outputs": [
    {
     "data": {
      "text/plain": [
       "'\\nQ = Square root of [(2 * C * D)/H]\\nFollowing are the fixed values of C and H:\\nC is 50. H is 30.\\nD is the variable whose values should be input to your program in a comma-separated\\nsequence.\\nExample\\nLet us assume the following comma separated input sequence is given to the program:\\n100,150,180\\nThe output of the program should be:\\n18,22,24\\n'"
      ]
     },
     "execution_count": 1,
     "metadata": {},
     "output_type": "execute_result"
    }
   ],
   "source": [
    "\"\"\"\n",
    "Q = Square root of [(2 * C * D)/H]\n",
    "Following are the fixed values of C and H:\n",
    "C is 50. H is 30.\n",
    "D is the variable whose values should be input to your program in a comma-separated\n",
    "sequence.\n",
    "Example\n",
    "Let us assume the following comma separated input sequence is given to the program:\n",
    "100,150,180\n",
    "The output of the program should be:\n",
    "18,22,24\n",
    "\"\"\""
   ]
  },
  {
   "cell_type": "code",
   "execution_count": 17,
   "id": "3bc8a7a0",
   "metadata": {},
   "outputs": [],
   "source": [
    "from math import sqrt\n",
    "def calculate(input_:str):\n",
    "    #predefined variables\n",
    "    C =50\n",
    "    H = 30\n",
    "    \n",
    "    #input variables\n",
    "    input_var = input_.split(sep=',')\n",
    "    print(f'given sequence is {input_var}')\n",
    "    \n",
    "    #calcution using formula --> Q = Square root of [(2 * C * D)/H]\n",
    "    \n",
    "    answers =[]\n",
    "    \n",
    "    for D  in input_var:\n",
    "        Q = sqrt((2 * C * int(D))/H)\n",
    "        answers.append(round(Q))\n",
    "        \n",
    "    return answers\n",
    "    "
   ]
  },
  {
   "cell_type": "code",
   "execution_count": 18,
   "id": "d0103471",
   "metadata": {},
   "outputs": [
    {
     "name": "stdout",
     "output_type": "stream",
     "text": [
      "given sequence is ['100', '150', '180']\n"
     ]
    },
    {
     "data": {
      "text/plain": [
       "[18, 22, 24]"
      ]
     },
     "execution_count": 18,
     "metadata": {},
     "output_type": "execute_result"
    }
   ],
   "source": [
    "calculate('100,150,180')"
   ]
  },
  {
   "cell_type": "markdown",
   "id": "ba893a79",
   "metadata": {},
   "source": [
    "### 2. write a program which takes 2 digits, X,Y as input and generates a 2-dimensional array. The element value in the i-th row and j-th column of the array should be i*j.\n",
    "1. Note: i=0,1.., X-1; j=0,1,¡Y-1.\n",
    " "
   ]
  },
  {
   "cell_type": "raw",
   "id": "366a1a3b",
   "metadata": {},
   "source": [
    "Example\n",
    "Suppose the following inputs are given to the program:\n",
    "3,5\n",
    "Then, the output of the program should be:\n",
    "[[0, 0, 0, 0, 0], [0, 1, 2, 3, 4], [0, 2, 4, 6, 8]]"
   ]
  },
  {
   "cell_type": "code",
   "execution_count": 28,
   "id": "df5f69b2",
   "metadata": {},
   "outputs": [
    {
     "name": "stdout",
     "output_type": "stream",
     "text": [
      "Enter the number of rows: 3\n",
      "Enter the number of columns: 4\n",
      "Empty array: [[0, 0, 0, 0], [0, 0, 0, 0], [0, 0, 0, 0]]\n",
      "output array is : [[0, 0, 0, 0], [0, 1, 2, 3], [0, 2, 4, 6]]\n"
     ]
    }
   ],
   "source": [
    "def generate_2d_array(x, y):\n",
    "    \n",
    "    \"\"\"Generates a 2-dimensional array with dimensions x and y.\"\"\"\n",
    "    \n",
    "    array = [[0 for i in range(y)] for j in range(x)]\n",
    "    print(f\"Empty array: {array}\")\n",
    "    \n",
    "    for i in range(x):\n",
    "        \n",
    "        for j in range(y):\n",
    "             array[i][j] = i * j\n",
    "    return array\n",
    "        \n",
    "\n",
    "x = int(input(\"Enter the number of rows: \"))\n",
    "y = int(input(\"Enter the number of columns: \"))\n",
    "array = generate_2d_array(x, y)\n",
    "print('output array is :', array)\n"
   ]
  },
  {
   "cell_type": "markdown",
   "id": "8cc54771",
   "metadata": {},
   "source": [
    "### 3. Write a program that accepts a comma separated sequence of words as input and prints the"
   ]
  },
  {
   "cell_type": "code",
   "execution_count": null,
   "id": "e78a80e8",
   "metadata": {},
   "outputs": [],
   "source": [
    "'''\n",
    "words in a comma-separated sequence after sorting them alphabetically.\n",
    "Suppose the following input is supplied to the program:\n",
    "without,hello,bag,world\n",
    "Then, the output should be:\n",
    "bag,hello,without,world\n",
    "'''"
   ]
  },
  {
   "cell_type": "code",
   "execution_count": 23,
   "id": "c1e04970",
   "metadata": {},
   "outputs": [],
   "source": [
    "def sort_words():\n",
    "    \n",
    "    #Taking input in comma separated format\n",
    "    inp = input('enter words separated by comma (,): ')\n",
    "    \n",
    "    #creating list of given words\n",
    "    lsst = inp.split(',')\n",
    "    print(lsst)\n",
    "    \n",
    "    #sortig words aplhabetically\n",
    "    lsst.sort()\n",
    "    \n",
    "    #joining sorted words\n",
    "    \n",
    "    return f\"sorted words are: {','.join(lsst)}\"\n",
    "    \n",
    "       \n",
    "\n",
    "    \n",
    "\n",
    "\n",
    "    "
   ]
  },
  {
   "cell_type": "code",
   "execution_count": 25,
   "id": "7d34a2bb",
   "metadata": {},
   "outputs": [
    {
     "name": "stdout",
     "output_type": "stream",
     "text": [
      "enter words separated by comma (,): my,name,is,unknown\n",
      "['my', 'name', 'is', 'unknown']\n"
     ]
    },
    {
     "data": {
      "text/plain": [
       "'sorted words are: is,my,name,unknown'"
      ]
     },
     "execution_count": 25,
     "metadata": {},
     "output_type": "execute_result"
    }
   ],
   "source": [
    "sort_words()"
   ]
  },
  {
   "cell_type": "markdown",
   "id": "59b802cf",
   "metadata": {},
   "source": [
    "### 4. Write a program that accepts a sequence of whitespace separated words as input and prints the words after removing all duplicate words and sorting them alphanumerically."
   ]
  },
  {
   "cell_type": "code",
   "execution_count": null,
   "id": "0fb19f20",
   "metadata": {},
   "outputs": [],
   "source": [
    "# Suppose the following input is supplied to the program:\n",
    "# hello world and practice makes perfect and hello world again\n",
    "# Then, the output should be:\n",
    "# again and hello makes perfect practice world"
   ]
  },
  {
   "cell_type": "code",
   "execution_count": 26,
   "id": "fe13ac90",
   "metadata": {},
   "outputs": [
    {
     "name": "stdout",
     "output_type": "stream",
     "text": [
      "Enter words separeted by whitespace = this words are separated by whitespace\n",
      "sorted words are as : are by separated this whitespace words\n"
     ]
    }
   ],
   "source": [
    "# Taking input\n",
    "string = input(\"Enter words separeted by whitespace = \")\n",
    "\n",
    "# sorting  and removing duplicatesusing this function\n",
    "def sort_words(string):\n",
    "    words = string.split(' ')\n",
    "    words = set(words)\n",
    "    words = list(words)\n",
    "    words.sort()\n",
    "    \n",
    "    return \" \".join(words)\n",
    "\n",
    "# print the sorted words and removed duplicates\n",
    "print(\"sorted words are as :\",sort_words(string))"
   ]
  },
  {
   "cell_type": "markdown",
   "id": "45646dda",
   "metadata": {},
   "source": [
    "### 5.) Write a program that accepts a sentence and calculate the number of letters and digits."
   ]
  },
  {
   "cell_type": "raw",
   "id": "9f88854c",
   "metadata": {},
   "source": [
    "Suppose the following input is supplied to the program:\n",
    "hello world! 123\n",
    "Then, the output should be:\n",
    "LETTERS 10\n",
    "DIGITS 3"
   ]
  },
  {
   "cell_type": "code",
   "execution_count": 38,
   "id": "20310e6c",
   "metadata": {},
   "outputs": [
    {
     "name": "stdout",
     "output_type": "stream",
     "text": [
      "Enter a sentence: this is 1 sentence with 2 digits\n",
      "this is 1 sentence with 2 digits\n",
      "LETTERS 24\n",
      "DIGITS 2\n"
     ]
    }
   ],
   "source": [
    "def count_letters_and_digits(sentence):\n",
    "    num_letters = 0\n",
    "    num_digits = 0\n",
    "    \n",
    "    print(sentence)\n",
    "\n",
    "    for char in sentence:\n",
    "        # To check if string is alphabetic\n",
    "        if char.isalpha():\n",
    "            num_letters += 1\n",
    "            \n",
    "        #To check if string is numeric\n",
    "        elif char.isdigit():\n",
    "            num_digits += 1\n",
    "\n",
    "    return num_letters, num_digits\n",
    "\n",
    "if __name__ == \"__main__\":\n",
    "    input_sentence = input(\"Enter a sentence: \")\n",
    "    letters, digits = count_letters_and_digits(input_sentence)\n",
    "\n",
    "    print(\"LETTERS\", letters)\n",
    "    print(\"DIGITS\", digits)\n"
   ]
  },
  {
   "cell_type": "markdown",
   "id": "00db22a3",
   "metadata": {},
   "source": [
    "### 6.A website requires the users to input username and password to register. Write a program to check the validity of password input by users.Following are the criteria for checking the password:\n",
    "1. At least 1 letter between [a-z]\n",
    "2. At least 1 number between [0-9]\n",
    "1. At least 1 letter between [A-Z]\n",
    "3. At least 1 character from [$#@]\n",
    "4. Minimum length of transaction password: 6\n",
    "5. Maximum length of transaction password: 12"
   ]
  },
  {
   "cell_type": "markdown",
   "id": "34701bda",
   "metadata": {},
   "source": [
    "Your program should accept a sequence of comma separated passwords and will check them\n",
    "according to the above criteria. Passwords that match the criteria are to be printed, each\n",
    "separated by a comma.\n",
    "Example\n",
    "If the following passwords are given as input to the program:\n",
    "ABd1234@1,a F1#,2w3E*,2We3345\n",
    "Then, the output of the program should be:\n",
    "ABd1234@1"
   ]
  },
  {
   "cell_type": "code",
   "execution_count": 40,
   "id": "005dbb8e",
   "metadata": {},
   "outputs": [
    {
     "name": "stdout",
     "output_type": "stream",
     "text": [
      "Enter comma-separated passwords: ABd1234@1,a F1#,2w3E*,2We3345\n",
      "valid passwords are:  \n",
      " ABd1234@1\n"
     ]
    }
   ],
   "source": [
    "import re\n",
    "\n",
    "def check_password_validity(password):\n",
    "    # Define the regular expression pattern for password validation\n",
    "    \"\"\"\n",
    "    (?=.*[a-z]): Lookahead assertion to ensure there is at least one lowercase letter.\n",
    "    (?=.*[A-Z]): Lookahead assertion to ensure there is at least one uppercase letter.\n",
    "    (?=.*[0-9]): Lookahead assertion to ensure there is at least one digit.\n",
    "    (?=.*[$#@]): Lookahead assertion to ensure there is at least one of the special characters ($, #, or @).\n",
    "    .{6,12}: Ensure the password length is between 6 and 12 characters.\n",
    "    \"\"\"\n",
    "          \n",
    "    pattern = r\"^(?=.*[a-z])(?=.*[A-Z])(?=.*[0-9])(?=.*[$#@]).{6,12}$\"\n",
    "\n",
    "    # Use re.match() to check if the password matches the pattern\n",
    "    if re.match(pattern, password):\n",
    "        return True\n",
    "    else:\n",
    "        return False\n",
    "\n",
    "    \n",
    "input_passwords = input(\"Enter comma-separated passwords: \")\n",
    "passwords = input_passwords.split(',')\n",
    "\n",
    "valid_passwords = [password for password in passwords if check_password_validity(password)]\n",
    "print('valid passwords are: ','\\n',','.join(valid_passwords))\n"
   ]
  },
  {
   "cell_type": "code",
   "execution_count": null,
   "id": "5438553a",
   "metadata": {},
   "outputs": [],
   "source": []
  }
 ],
 "metadata": {
  "kernelspec": {
   "display_name": "Python 3 (ipykernel)",
   "language": "python",
   "name": "python3"
  },
  "language_info": {
   "codemirror_mode": {
    "name": "ipython",
    "version": 3
   },
   "file_extension": ".py",
   "mimetype": "text/x-python",
   "name": "python",
   "nbconvert_exporter": "python",
   "pygments_lexer": "ipython3",
   "version": "3.9.12"
  }
 },
 "nbformat": 4,
 "nbformat_minor": 5
}
