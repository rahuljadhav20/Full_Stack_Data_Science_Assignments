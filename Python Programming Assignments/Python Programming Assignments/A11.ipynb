{
 "cells": [
  {
   "cell_type": "markdown",
   "id": "04fa12b8",
   "metadata": {},
   "source": [
    "### 1. Write a Python program to find words which are greater than given length k"
   ]
  },
  {
   "cell_type": "code",
   "execution_count": 22,
   "id": "9896c881",
   "metadata": {},
   "outputs": [
    {
     "name": "stdout",
     "output_type": "stream",
     "text": [
      "Python\n",
      "good\n",
      "and\n",
      "easy\n",
      "programming\n",
      "laguage\n",
      "learn\n"
     ]
    }
   ],
   "source": [
    "#Given line in string format \n",
    "line = 'Python is good and easy  programming laguage to learn '\n",
    "\n",
    "#Length of word\n",
    "length = 3\n",
    "\n",
    "#To obtain list of words\n",
    "word_list = line.split(' ')\n",
    "\n",
    "# print word if it is greater than given length\n",
    "for word in word_list:\n",
    "    if len(word)>length:\n",
    "        print(word)"
   ]
  },
  {
   "cell_type": "markdown",
   "id": "2fcd1df5",
   "metadata": {},
   "source": [
    "### 2. Write a Python program for removing i-th character from a string"
   ]
  },
  {
   "cell_type": "code",
   "execution_count": 28,
   "id": "7ca4d160",
   "metadata": {},
   "outputs": [
    {
     "name": "stdout",
     "output_type": "stream",
     "text": [
      "Enter a string: this is a input string\n",
      "Enter the index of the character to remove: 8\n",
      "Input string:  this is a input string\n",
      "Resulting string: this is  input string\n"
     ]
    }
   ],
   "source": [
    "def remove_ith_character(input_string, i):\n",
    "    if i < 0 or i >= len(input_string):\n",
    "        print(\"Invalid index. The string remains unchanged.\")\n",
    "        return input_string\n",
    "\n",
    "    # Slice the string before and after the i-th character and concatenate them\n",
    "    result_string = input_string[:i] + input_string[i + 1:]\n",
    "\n",
    "    return result_string\n",
    "\n",
    "# Test the function\n",
    "user_input = input(\"Enter a string: \")\n",
    "index_to_remove = int(input(\"Enter the index of the character to remove: \"))\n",
    "print(\"Input string: \",user_input)\n",
    "result = remove_ith_character(user_input, index_to_remove)\n",
    "print(\"Resulting string:\", result)\n"
   ]
  },
  {
   "cell_type": "markdown",
   "id": "ffaae2a1",
   "metadata": {},
   "source": [
    "### 3. Write a Python program to split and join a string"
   ]
  },
  {
   "cell_type": "code",
   "execution_count": 44,
   "id": "c50ef9c1",
   "metadata": {},
   "outputs": [
    {
     "name": "stdout",
     "output_type": "stream",
     "text": [
      "After Split:  ['This', 'is', 'line', 'to', 'split']\n",
      "After join:  This is line to split\n"
     ]
    }
   ],
   "source": [
    "string = 'This is line to split'\n",
    "\n",
    "#Splittig a string \n",
    "split_words = string.split(' ')\n",
    "\n",
    "print('After Split: ',split_words)\n",
    "\n",
    "join_words = ' '.join(split_words)\n",
    "\n",
    "print(\"After join: \",join_words)"
   ]
  },
  {
   "cell_type": "markdown",
   "id": "e80ba6a0",
   "metadata": {},
   "source": [
    "### 4. Write a Python to check if a given string is binary string or not"
   ]
  },
  {
   "cell_type": "code",
   "execution_count": 50,
   "id": "a85c23b1",
   "metadata": {},
   "outputs": [
    {
     "name": "stdout",
     "output_type": "stream",
     "text": [
      "(True, 'Given string is binary string')\n"
     ]
    }
   ],
   "source": [
    "\n",
    "def is_binary_string(string):\n",
    "  \"\"\"\n",
    "  Checks if a given string is a binary string\n",
    "  \n",
    "  \"\"\"\n",
    "\n",
    "  for character in string:\n",
    "    if character  in \"01\":\n",
    "        return True, \"Given string is binary string\"\n",
    "\n",
    "    return False\n",
    "\n",
    "\n",
    "string = \"10101010\"\n",
    "print(is_binary_string(string))\n"
   ]
  },
  {
   "cell_type": "markdown",
   "id": "97f239c9",
   "metadata": {},
   "source": [
    "### 5. Write a Python program to find uncommon words from two Strings"
   ]
  },
  {
   "cell_type": "code",
   "execution_count": 58,
   "id": "48cfc68e",
   "metadata": {},
   "outputs": [
    {
     "data": {
      "text/plain": [
       "['m', 'c', 't']"
      ]
     },
     "execution_count": 58,
     "metadata": {},
     "output_type": "execute_result"
    }
   ],
   "source": [
    "def find_uncommon(string1,string2):\n",
    "    uncommon_words =[]\n",
    "    set1 = set(string1)\n",
    "    set2 = set(string2)\n",
    "\n",
    "    for word in set1:\n",
    "        if word not in set2:\n",
    "            uncommon_words.append(word)\n",
    "    for word in set2:\n",
    "        if word not in set1:\n",
    "            uncommon_words.append(word)\n",
    "\n",
    "    return uncommon_words    \n",
    "\n",
    "\n",
    "\n",
    "find_uncommon('common','not')\n",
    "    "
   ]
  },
  {
   "cell_type": "markdown",
   "id": "fa3dc146",
   "metadata": {},
   "source": [
    "### 6. Write a Python to find all duplicate characters in string"
   ]
  },
  {
   "cell_type": "code",
   "execution_count": 63,
   "id": "0a273786",
   "metadata": {},
   "outputs": [
    {
     "data": {
      "text/plain": [
       "\"duplicate  words in both charecters are {'n', 'o'}\""
      ]
     },
     "execution_count": 63,
     "metadata": {},
     "output_type": "execute_result"
    }
   ],
   "source": [
    "def find_duplicate(string1,string2):\n",
    "    set1 = set(string1)\n",
    "    set2 = set(string2)\n",
    "\n",
    "    return f\"duplicate  words in both charecters are {set1 & set2  }\"\n",
    "\n",
    "\n",
    "\n",
    "find_duplicate('common','not')"
   ]
  },
  {
   "cell_type": "markdown",
   "id": "42385181",
   "metadata": {},
   "source": [
    "###  7 Write a Python Program to check if a string contains any special character"
   ]
  },
  {
   "cell_type": "code",
   "execution_count": 69,
   "id": "416b2c46",
   "metadata": {},
   "outputs": [
    {
     "name": "stdout",
     "output_type": "stream",
     "text": [
      "Enter a string: has a special charecter $ \n",
      "<re.Match object; span=(24, 25), match='$'>\n",
      "The string contains special characters.\n"
     ]
    }
   ],
   "source": [
    "import re\n",
    "\n",
    "def has_special_character(input_string):\n",
    "    # Define the pattern for special characters using a regular expression\n",
    "    special_char_pattern = re.compile(r'[!@#$%^&*(),.?\":{}|<>]')\n",
    "\n",
    "    # Use the re.search() method to find a match in the string\n",
    "    global match\n",
    "    match = special_char_pattern.search(input_string)\n",
    "    print(match)\n",
    "\n",
    "    # If a match is found, the string contains a special character\n",
    "    return bool(match)\n",
    "\n",
    "# Test the function\n",
    "user_input = input(\"Enter a string: \")\n",
    "\n",
    "if has_special_character(user_input):\n",
    "    print(\"The string contains special characters.\")\n",
    "else:\n",
    "    print(\"The string does NOT contain any special characters.\")\n"
   ]
  }
 ],
 "metadata": {
  "kernelspec": {
   "display_name": "Python 3 (ipykernel)",
   "language": "python",
   "name": "python3"
  },
  "language_info": {
   "codemirror_mode": {
    "name": "ipython",
    "version": 3
   },
   "file_extension": ".py",
   "mimetype": "text/x-python",
   "name": "python",
   "nbconvert_exporter": "python",
   "pygments_lexer": "ipython3",
   "version": "3.9.12"
  }
 },
 "nbformat": 4,
 "nbformat_minor": 5
}
