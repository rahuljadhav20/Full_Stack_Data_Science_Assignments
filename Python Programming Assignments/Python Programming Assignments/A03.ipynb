{
 "cells": [
  {
   "cell_type": "markdown",
   "id": "510472a0",
   "metadata": {},
   "source": [
    "### 1.\tWrite a Python Program to Check if a Number is Positive, Negative or Zero?\n"
   ]
  },
  {
   "cell_type": "code",
   "execution_count": 1,
   "id": "8c1d3c4c",
   "metadata": {},
   "outputs": [
    {
     "name": "stdout",
     "output_type": "stream",
     "text": [
      "Enter a number: 60\n",
      "Given number is Positive \n"
     ]
    }
   ],
   "source": [
    "num = int(input(\"Enter a number: \"))\n",
    "\n",
    "if num ==0:\n",
    "    print(\"Given number is Zero\")\n",
    "    \n",
    "elif num<0:\n",
    "    print(\"Given number is Negative\")\n",
    "    \n",
    "else:\n",
    "    print(\"Given number is Positive \")"
   ]
  },
  {
   "cell_type": "markdown",
   "id": "025a204e",
   "metadata": {},
   "source": [
    "### 2.\tWrite a Python Program to Check if a Number is Odd or Even?\n"
   ]
  },
  {
   "cell_type": "code",
   "execution_count": 2,
   "id": "a94a55d6",
   "metadata": {},
   "outputs": [
    {
     "name": "stdout",
     "output_type": "stream",
     "text": [
      "Enter a number: 65\n",
      "Given number is odd\n"
     ]
    }
   ],
   "source": [
    "num = int(input(\"Enter a number: \"))\n",
    "\n",
    "if num%2 ==0:\n",
    "    print('Given number is even')\n",
    "else:\n",
    "    print(\"Given number is odd\")"
   ]
  },
  {
   "cell_type": "markdown",
   "id": "c15bce5f",
   "metadata": {},
   "source": [
    "### 3.\tWrite a Python Program to Check Leap Year?\n"
   ]
  },
  {
   "cell_type": "code",
   "execution_count": 3,
   "id": "8a92a99e",
   "metadata": {},
   "outputs": [
    {
     "name": "stdout",
     "output_type": "stream",
     "text": [
      "Please enter the year: 2024\n",
      "The year 2024 is a leap year\n"
     ]
    }
   ],
   "source": [
    "import calendar\n",
    "year = int(input('Please enter the year: '))\n",
    "\n",
    "if calendar.isleap(year):\n",
    "    print(f'The year {year} is a leap year')\n",
    "else:\n",
    "    print(f'The year {year} is not a leap year')"
   ]
  },
  {
   "cell_type": "code",
   "execution_count": 4,
   "id": "f7bccfdc",
   "metadata": {},
   "outputs": [
    {
     "name": "stdout",
     "output_type": "stream",
     "text": [
      "Please enter the year: 2022\n",
      "2022 is not a leap year\n"
     ]
    }
   ],
   "source": [
    "year = int(input('Please enter the year: '))\n",
    "\n",
    "\n",
    "if year % 4 == 0:\n",
    "    if year % 100 == 0:\n",
    "          if year % 400 == 0:\n",
    "                print(f' {year} is leap year')\n",
    "    else:\n",
    "        print(f'{year} is a leap year')\n",
    "      \n",
    "else:\n",
    "    print(f\"{year} is not a leap year\")\n",
    "\n"
   ]
  },
  {
   "cell_type": "markdown",
   "id": "3a782743",
   "metadata": {},
   "source": [
    "### 4.\tWrite a Python Program to Check Prime Number?\n"
   ]
  },
  {
   "cell_type": "code",
   "execution_count": 5,
   "id": "f82b7cea",
   "metadata": {
    "scrolled": true
   },
   "outputs": [
    {
     "name": "stdout",
     "output_type": "stream",
     "text": [
      "Enter a number: 45\n",
      "45 is not a prime number.\n"
     ]
    }
   ],
   "source": [
    "def is_prime(number):\n",
    "    if number < 2:  # Numbers less than 2 are not prime\n",
    "        return False\n",
    "\n",
    "    # Check for factors from 2 to the square root of the number\n",
    "    for i in range(2, int(number**0.5) + 1):\n",
    "        if number % i == 0:  # If a factor is found, number is not prime\n",
    "            return False\n",
    "\n",
    "    return True  # If no factors found, number is prime\n",
    "\n",
    "# Test the function\n",
    "num = int(input(\"Enter a number: \"))\n",
    "\n",
    "if is_prime(num):\n",
    "    print(f\"{num} is a prime number.\")\n",
    "else:\n",
    "    print(f\"{num} is not a prime number.\")\n"
   ]
  },
  {
   "cell_type": "markdown",
   "id": "e1c5a1a0",
   "metadata": {},
   "source": [
    "### 5.\tWrite a Python Program to Print all Prime Numbers in an Interval of 1-10000?\n"
   ]
  },
  {
   "cell_type": "code",
   "execution_count": null,
   "id": "c6f096f1",
   "metadata": {},
   "outputs": [],
   "source": [
    "def is_prime(number):\n",
    "    if number < 2:\n",
    "        return False\n",
    "\n",
    "    for i in range(2, int(number**0.5) + 1):\n",
    "        if number % i == 0:\n",
    "            return False\n",
    "\n",
    "    return True\n",
    "\n",
    "print(\"Prime numbers between 1 and 10000:\")\n",
    "for num in range(1, 10001):\n",
    "    if is_prime(num):\n",
    "        print(num)\n"
   ]
  },
  {
   "cell_type": "code",
   "execution_count": null,
   "id": "30c51522",
   "metadata": {},
   "outputs": [],
   "source": []
  }
 ],
 "metadata": {
  "kernelspec": {
   "display_name": "Python 3 (ipykernel)",
   "language": "python",
   "name": "python3"
  },
  "language_info": {
   "codemirror_mode": {
    "name": "ipython",
    "version": 3
   },
   "file_extension": ".py",
   "mimetype": "text/x-python",
   "name": "python",
   "nbconvert_exporter": "python",
   "pygments_lexer": "ipython3",
   "version": "3.9.12"
  }
 },
 "nbformat": 4,
 "nbformat_minor": 5
}
