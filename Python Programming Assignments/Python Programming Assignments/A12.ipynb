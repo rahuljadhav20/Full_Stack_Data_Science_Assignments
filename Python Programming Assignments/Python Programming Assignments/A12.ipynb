{
 "cells": [
  {
   "cell_type": "markdown",
   "id": "070f0853",
   "metadata": {},
   "source": [
    "### 1. Write a Python program to Extract Unique values dictionary values"
   ]
  },
  {
   "cell_type": "code",
   "execution_count": 1,
   "id": "4c84ff03",
   "metadata": {},
   "outputs": [
    {
     "name": "stdout",
     "output_type": "stream",
     "text": [
      "unique_values:  {'zero', 'two', 'one', 'three'}\n"
     ]
    }
   ],
   "source": [
    "demo = {'key1':'zero','key2':'one','key3':'one','key4':'two','key5':'three'}\n",
    "\n",
    "#to get all values\n",
    "values = demo.values()\n",
    "\n",
    "#to get unique values\n",
    "unique_values = set(values)\n",
    "print('unique_values: ',unique_values)\n",
    "\n"
   ]
  },
  {
   "cell_type": "markdown",
   "id": "1a2c04d5",
   "metadata": {},
   "source": [
    "### 2. Write a Python program to find the sum of all items in a dictionary"
   ]
  },
  {
   "cell_type": "code",
   "execution_count": 2,
   "id": "ac274ece",
   "metadata": {},
   "outputs": [
    {
     "name": "stdout",
     "output_type": "stream",
     "text": [
      "Sum : 600\n"
     ]
    }
   ],
   "source": [
    "def sum_dict(dict):\n",
    "\n",
    "    list = []\n",
    "    for i in dict:\n",
    "        list.append(dict[i])\n",
    "        final = sum(list)\n",
    "\n",
    "    return final\n",
    "\n",
    "\n",
    "dict = {'a': 100, 'b': 200, 'c': 300}\n",
    "print(\"Sum :\", sum_dict(dict))\n"
   ]
  },
  {
   "cell_type": "markdown",
   "id": "c8f8f0be",
   "metadata": {},
   "source": [
    "###  3. Write a Python program to Merging two Dictionaries."
   ]
  },
  {
   "cell_type": "code",
   "execution_count": 3,
   "id": "40d002cc",
   "metadata": {
    "scrolled": true
   },
   "outputs": [
    {
     "name": "stdout",
     "output_type": "stream",
     "text": [
      "merged dictionary :\n",
      "{1: 'hello', 2: 'world', 3: 'merged', 4: 'dictionary'}\n"
     ]
    }
   ],
   "source": [
    "# program to merge two dictionary\n",
    "\n",
    "def merge_dict(dict1,dict2):\n",
    "    dict1.update(dict2)\n",
    "    return dict1\n",
    "\n",
    "dict1 = {1:'hello',2:'world'}\n",
    "dict2 = {3:'merged',4:'dictionary'}\n",
    "\n",
    "print(\"merged dictionary :\")\n",
    "\n",
    "print(merge_dict(dict1,dict2))\n"
   ]
  },
  {
   "cell_type": "markdown",
   "id": "b39130e7",
   "metadata": {},
   "source": [
    "### 4.  Write aPython program to convert key-values list to flat dictionary"
   ]
  },
  {
   "cell_type": "code",
   "execution_count": 4,
   "id": "649a5bb7",
   "metadata": {},
   "outputs": [
    {
     "name": "stdout",
     "output_type": "stream",
     "text": [
      "The original dictionary is : {'month': [1, 2, 3], 'name': ['Jan', 'Feb', 'March']}\n",
      "[(1, 'Jan'), (2, 'Feb'), (3, 'March')]\n",
      "Flattened dictionary :  {1: 'Jan', 2: 'Feb', 3: 'March'}\n"
     ]
    }
   ],
   "source": [
    "\n",
    "# dictionary\n",
    "test_dict = {'month' : [1, 2, 3],\n",
    "             'name' : ['Jan', 'Feb', 'March']}\n",
    "\n",
    "# dictionary\n",
    "print(\"The original dictionary is : \" + str(test_dict))\n",
    "\n",
    "# convert key-values list to flat dictionary\n",
    "# Using dict() + zip()\n",
    "res = list(zip(test_dict['month'], test_dict['name']))\n",
    "print(res)\n",
    "dt = {}\n",
    "for r in res:\n",
    "    dt[r[0]] = r[1]\n",
    "\n",
    "# printing result\n",
    "print(\"Flattened dictionary : \", dt)"
   ]
  },
  {
   "cell_type": "markdown",
   "id": "0b50852c",
   "metadata": {},
   "source": [
    "### 5. Write a Python program to insertion at the beginning in OrderedDict"
   ]
  },
  {
   "cell_type": "code",
   "execution_count": 5,
   "id": "e4c2ba38",
   "metadata": {},
   "outputs": [],
   "source": [
    "# Using OrderedDict\n",
    "from collections import OrderedDict\n",
    "def add_beginnig(key,value,old_dict):\n",
    "    #cerate new Orderdict \n",
    "    ordered_dict= OrderedDict()\n",
    "    \n",
    "    #add latest record at begining \n",
    "    ordered_dict[key]=value\n",
    "    \n",
    "    \n",
    "    #update with old values\n",
    "    ordered_dict.update(old_dict)\n",
    "    \n",
    "    #print all key,value pairs\n",
    "    for key, value in ordered_dict.items():\n",
    "            print(key, value)\n",
    "            \n",
    "    return ordered_dict"
   ]
  },
  {
   "cell_type": "code",
   "execution_count": 6,
   "id": "8838c89a",
   "metadata": {},
   "outputs": [
    {
     "name": "stdout",
     "output_type": "stream",
     "text": [
      "latest value\n",
      "a 1\n",
      "c 3\n"
     ]
    },
    {
     "data": {
      "text/plain": [
       "OrderedDict([('latest', 'value'), ('a', 1), ('c', 3)])"
      ]
     },
     "execution_count": 6,
     "metadata": {},
     "output_type": "execute_result"
    }
   ],
   "source": [
    "add_beginnig('latest','value',{'a': 1, 'c': 3})"
   ]
  },
  {
   "cell_type": "markdown",
   "id": "a9854135",
   "metadata": {},
   "source": [
    "### 6. Write a Python program to check order of character in string using OrderedDict()"
   ]
  },
  {
   "cell_type": "code",
   "execution_count": 7,
   "id": "438ccff4",
   "metadata": {},
   "outputs": [
    {
     "name": "stdout",
     "output_type": "stream",
     "text": [
      "True\n"
     ]
    }
   ],
   "source": [
    "import collections\n",
    "\n",
    "def check_order(string, pattern):\n",
    "  \"\"\"Checks if the order of characters in the string matches the pattern.\"\"\"\n",
    "  ordered_dict = collections.OrderedDict()\n",
    "  for c in string:\n",
    "    ordered_dict[c] = None\n",
    "\n",
    "  pointer = 0\n",
    "  for c in pattern:\n",
    "    if c not in ordered_dict:\n",
    "      return False\n",
    "    else:\n",
    "      del ordered_dict[c]\n",
    "      pointer += 1\n",
    "\n",
    "  if pointer == len(pattern):\n",
    "    return True\n",
    "  else:\n",
    "    return False\n",
    "\n",
    "# if order matches it'll return true \n",
    "\n",
    "string = \"abcbcd\"\n",
    "pattern = \"abc\"\n",
    "result = check_order(string, pattern)\n",
    "print(result)\n"
   ]
  },
  {
   "cell_type": "markdown",
   "id": "bd075b02",
   "metadata": {},
   "source": [
    "### 7. Write a Python program to sort Python Dictionaries by Key or Value"
   ]
  },
  {
   "cell_type": "code",
   "execution_count": 8,
   "id": "60f09dab",
   "metadata": {},
   "outputs": [
    {
     "name": "stdout",
     "output_type": "stream",
     "text": [
      "before sort :\n",
      "{'name': 'sunny', 'title': 'kumar', 'age': 25, 'edu': 'bca'}\n",
      "after sorting by keys :\n"
     ]
    },
    {
     "data": {
      "text/plain": [
       "{'age': 25, 'edu': 'bca', 'name': 'sunny', 'title': 'kumar'}"
      ]
     },
     "execution_count": 8,
     "metadata": {},
     "output_type": "execute_result"
    }
   ],
   "source": [
    "# program to sort python dictionary by key \n",
    "\n",
    "# function which sort by keys\n",
    "def sort_keys(dic:dict):\n",
    "    \n",
    "    # list to extract put all extracted keys from dict\n",
    "    keys = list(dic.keys())\n",
    "    \n",
    "    # sorting keys\n",
    "    keys.sort()\n",
    "    \n",
    "    # creating copy of original dict \n",
    "    temp = dic.copy()\n",
    "    \n",
    "    # clearing original dict\n",
    "    dic.clear()\n",
    "    \n",
    "    # agian adding values according to sorted keys in dict\n",
    "    for k in keys:\n",
    "        dic[k] = temp[k]\n",
    "    \n",
    "    return dic\n",
    "\n",
    "dt = {'name':\"sunny\",\"title\":'kumar','age':25,'edu':'bca'}\n",
    "\n",
    "print(\"before sort :\")\n",
    "print(dt)\n",
    "\n",
    "# calling sorting function\n",
    "print(\"after sorting by keys :\")\n",
    "sort_keys(dt)\n"
   ]
  },
  {
   "cell_type": "code",
   "execution_count": null,
   "id": "07921d35",
   "metadata": {},
   "outputs": [],
   "source": []
  }
 ],
 "metadata": {
  "kernelspec": {
   "display_name": "Python 3 (ipykernel)",
   "language": "python",
   "name": "python3"
  },
  "language_info": {
   "codemirror_mode": {
    "name": "ipython",
    "version": 3
   },
   "file_extension": ".py",
   "mimetype": "text/x-python",
   "name": "python",
   "nbconvert_exporter": "python",
   "pygments_lexer": "ipython3",
   "version": "3.9.12"
  }
 },
 "nbformat": 4,
 "nbformat_minor": 5
}
