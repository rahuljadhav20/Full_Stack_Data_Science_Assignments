{
 "cells": [
  {
   "cell_type": "markdown",
   "id": "30ce0e39",
   "metadata": {},
   "source": [
    "### 1) Write a python program to find LCM"
   ]
  },
  {
   "cell_type": "code",
   "execution_count": 4,
   "id": "66dd9557",
   "metadata": {},
   "outputs": [
    {
     "name": "stdout",
     "output_type": "stream",
     "text": [
      "Enter the number1 = 20\n",
      "Enter the number2 = 5\n",
      "The LCM is 20\n"
     ]
    }
   ],
   "source": [
    "\n",
    "def calculate_lcm(x,y):\n",
    "    if x>y:\n",
    "        greater =x\n",
    "    else:\n",
    "        greater =y\n",
    "        \n",
    "    while True:\n",
    "        #if greater is divisible by both numbers at a time \n",
    "        if greater%x==0 and greater%y==0:\n",
    "            LCM =greater\n",
    "            break\n",
    "        greater = greater+1\n",
    "    return LCM\n",
    "        \n",
    "n1 = int(input(\"Enter the number1 = \"))\n",
    "n2 = int(input(\"Enter the number2 = \"))\n",
    "\n",
    "print(\"The LCM is\",calculate_lcm(n1,n2))\n",
    "\n"
   ]
  },
  {
   "cell_type": "markdown",
   "id": "4bf4be1b",
   "metadata": {},
   "source": [
    "### 2) Write a python program to find HCF "
   ]
  },
  {
   "cell_type": "code",
   "execution_count": 8,
   "id": "1be20289",
   "metadata": {},
   "outputs": [
    {
     "name": "stdout",
     "output_type": "stream",
     "text": [
      "Enter the number1: 39\n",
      "Enter the number2: 650\n",
      "HCF is 13\n"
     ]
    }
   ],
   "source": [
    "def calculate_HCF(x,y):\n",
    "    \n",
    "        a = max(x,y)\n",
    "        b = min(x,y)\n",
    "        c = a%b\n",
    "\n",
    "        while True:\n",
    "\n",
    "            if c==0:\n",
    "                HCF = c\n",
    "                print(f\"HCF is {b}\")\n",
    "                break\n",
    "            else:\n",
    "                a=b\n",
    "                b=c\n",
    "                c=a%b\n",
    "                \n",
    "                \n",
    "x=int(input(\"Enter the number1: \"))\n",
    "y=int(input(\"Enter the number2: \"))\n",
    "calculate_HCF(x,y)"
   ]
  },
  {
   "cell_type": "markdown",
   "id": "c7c42197",
   "metadata": {},
   "source": [
    "### 3) Write a Python Program to Convert Decimal to Binary, Octal and Hexadecimal"
   ]
  },
  {
   "cell_type": "code",
   "execution_count": null,
   "id": "6ddcd1f6",
   "metadata": {},
   "outputs": [],
   "source": [
    "# Python program to convert decimal into other number systems\n",
    "\n",
    "num = int(input(\"Enter number = \"))\n",
    "\n",
    "print(\"The decimal value of\", num, \"is:\")\n",
    "print(bin(num), \"in binary.\")\n",
    "print(oct(num), \"in octal.\")\n",
    "print(hex(num), \"in hexadecimal.\")"
   ]
  },
  {
   "cell_type": "markdown",
   "id": "b7f72cf1",
   "metadata": {},
   "source": [
    "### 4) Write a Python Program To Find ASCII value of a character"
   ]
  },
  {
   "cell_type": "code",
   "execution_count": 10,
   "id": "d0514d19",
   "metadata": {},
   "outputs": [
    {
     "name": "stdout",
     "output_type": "stream",
     "text": [
      "Enter a single character = d\n",
      "ASCII value of d is 100\n"
     ]
    }
   ],
   "source": [
    "# program to print the ASCII value of a character \n",
    "charecter = input(\"Enter a single character = \")\n",
    "\n",
    "# return correspoding ascii value by using ord() function\n",
    "print(f\"ASCII value of {charecter} is {ord(charecter)}\")"
   ]
  },
  {
   "cell_type": "markdown",
   "id": "1d059fd5",
   "metadata": {},
   "source": [
    "### 5) Write a Python Program to Make a Simple Calculator with 4 basic mathematical operations"
   ]
  },
  {
   "cell_type": "code",
   "execution_count": 14,
   "id": "d57de5de",
   "metadata": {},
   "outputs": [
    {
     "name": "stdout",
     "output_type": "stream",
     "text": [
      "Welcome!, you can perform basic(add,mul,sub,div) operations using this calculator\n",
      "enter the number1: 20\n",
      "enter the number2: 28\n",
      "please select operation:\n",
      "                            1. enter 1 for addition\n",
      "                            2. enter 2 for substraction\n",
      "                            3. enter 3 for multiplication\n",
      "                            4. enter 4 for division\n",
      "    \n",
      "                          3\n",
      " 20 * 28 = 560\n",
      "enter the number1: 19\n",
      "enter the number2: 30\n",
      "please select operation:\n",
      "                            1. enter 1 for addition\n",
      "                            2. enter 2 for substraction\n",
      "                            3. enter 3 for multiplication\n",
      "                            4. enter 4 for division\n",
      "    \n",
      "                          1\n",
      " 19 + 30 = 49\n",
      "enter valid number\n"
     ]
    },
    {
     "ename": "KeyboardInterrupt",
     "evalue": "Interrupted by user",
     "output_type": "error",
     "traceback": [
      "\u001b[1;31m---------------------------------------------------------------------------\u001b[0m",
      "\u001b[1;31mKeyboardInterrupt\u001b[0m                         Traceback (most recent call last)",
      "Input \u001b[1;32mIn [14]\u001b[0m, in \u001b[0;36m<cell line: 4>\u001b[1;34m()\u001b[0m\n\u001b[0;32m      9\u001b[0m     \u001b[38;5;28mprint\u001b[39m(\u001b[38;5;124m\"\u001b[39m\u001b[38;5;124menter valid number\u001b[39m\u001b[38;5;124m\"\u001b[39m)\n\u001b[0;32m     11\u001b[0m \u001b[38;5;66;03m#select operation\u001b[39;00m\n\u001b[1;32m---> 12\u001b[0m operation \u001b[38;5;241m=\u001b[39m \u001b[38;5;28mint\u001b[39m(\u001b[38;5;28;43minput\u001b[39;49m\u001b[43m(\u001b[49m\u001b[38;5;124;43m\"\"\"\u001b[39;49m\u001b[38;5;124;43mplease select operation:\u001b[39;49m\n\u001b[0;32m     13\u001b[0m \u001b[38;5;124;43m                        1. enter 1 for addition\u001b[39;49m\n\u001b[0;32m     14\u001b[0m \u001b[38;5;124;43m                        2. enter 2 for substraction\u001b[39;49m\n\u001b[0;32m     15\u001b[0m \u001b[38;5;124;43m                        3. enter 3 for multiplication\u001b[39;49m\n\u001b[0;32m     16\u001b[0m \u001b[38;5;124;43m                        4. enter 4 for division\u001b[39;49m\n\u001b[0;32m     17\u001b[0m \u001b[38;5;124;43m\u001b[39;49m\n\u001b[0;32m     18\u001b[0m \u001b[38;5;124;43m                      \u001b[39;49m\u001b[38;5;124;43m\"\"\"\u001b[39;49m\u001b[43m)\u001b[49m)\n\u001b[0;32m     20\u001b[0m \u001b[38;5;28;01mif\u001b[39;00m operation \u001b[38;5;241m==\u001b[39m\u001b[38;5;241m1\u001b[39m:\n\u001b[0;32m     21\u001b[0m     \u001b[38;5;28mprint\u001b[39m(\u001b[38;5;124mf\u001b[39m\u001b[38;5;124m\"\u001b[39m\u001b[38;5;124m \u001b[39m\u001b[38;5;132;01m{\u001b[39;00mn1\u001b[38;5;132;01m}\u001b[39;00m\u001b[38;5;124m + \u001b[39m\u001b[38;5;132;01m{\u001b[39;00mn2\u001b[38;5;132;01m}\u001b[39;00m\u001b[38;5;124m = \u001b[39m\u001b[38;5;132;01m{\u001b[39;00mn1\u001b[38;5;241m+\u001b[39mn2\u001b[38;5;132;01m}\u001b[39;00m\u001b[38;5;124m\"\u001b[39m)\n",
      "File \u001b[1;32m~\\anaconda3\\lib\\site-packages\\ipykernel\\kernelbase.py:1075\u001b[0m, in \u001b[0;36mKernel.raw_input\u001b[1;34m(self, prompt)\u001b[0m\n\u001b[0;32m   1071\u001b[0m \u001b[38;5;28;01mif\u001b[39;00m \u001b[38;5;129;01mnot\u001b[39;00m \u001b[38;5;28mself\u001b[39m\u001b[38;5;241m.\u001b[39m_allow_stdin:\n\u001b[0;32m   1072\u001b[0m     \u001b[38;5;28;01mraise\u001b[39;00m StdinNotImplementedError(\n\u001b[0;32m   1073\u001b[0m         \u001b[38;5;124m\"\u001b[39m\u001b[38;5;124mraw_input was called, but this frontend does not support input requests.\u001b[39m\u001b[38;5;124m\"\u001b[39m\n\u001b[0;32m   1074\u001b[0m     )\n\u001b[1;32m-> 1075\u001b[0m \u001b[38;5;28;01mreturn\u001b[39;00m \u001b[38;5;28;43mself\u001b[39;49m\u001b[38;5;241;43m.\u001b[39;49m\u001b[43m_input_request\u001b[49m\u001b[43m(\u001b[49m\n\u001b[0;32m   1076\u001b[0m \u001b[43m    \u001b[49m\u001b[38;5;28;43mstr\u001b[39;49m\u001b[43m(\u001b[49m\u001b[43mprompt\u001b[49m\u001b[43m)\u001b[49m\u001b[43m,\u001b[49m\n\u001b[0;32m   1077\u001b[0m \u001b[43m    \u001b[49m\u001b[38;5;28;43mself\u001b[39;49m\u001b[38;5;241;43m.\u001b[39;49m\u001b[43m_parent_ident\u001b[49m\u001b[43m[\u001b[49m\u001b[38;5;124;43m\"\u001b[39;49m\u001b[38;5;124;43mshell\u001b[39;49m\u001b[38;5;124;43m\"\u001b[39;49m\u001b[43m]\u001b[49m\u001b[43m,\u001b[49m\n\u001b[0;32m   1078\u001b[0m \u001b[43m    \u001b[49m\u001b[38;5;28;43mself\u001b[39;49m\u001b[38;5;241;43m.\u001b[39;49m\u001b[43mget_parent\u001b[49m\u001b[43m(\u001b[49m\u001b[38;5;124;43m\"\u001b[39;49m\u001b[38;5;124;43mshell\u001b[39;49m\u001b[38;5;124;43m\"\u001b[39;49m\u001b[43m)\u001b[49m\u001b[43m,\u001b[49m\n\u001b[0;32m   1079\u001b[0m \u001b[43m    \u001b[49m\u001b[43mpassword\u001b[49m\u001b[38;5;241;43m=\u001b[39;49m\u001b[38;5;28;43;01mFalse\u001b[39;49;00m\u001b[43m,\u001b[49m\n\u001b[0;32m   1080\u001b[0m \u001b[43m\u001b[49m\u001b[43m)\u001b[49m\n",
      "File \u001b[1;32m~\\anaconda3\\lib\\site-packages\\ipykernel\\kernelbase.py:1120\u001b[0m, in \u001b[0;36mKernel._input_request\u001b[1;34m(self, prompt, ident, parent, password)\u001b[0m\n\u001b[0;32m   1117\u001b[0m             \u001b[38;5;28;01mbreak\u001b[39;00m\n\u001b[0;32m   1118\u001b[0m \u001b[38;5;28;01mexcept\u001b[39;00m \u001b[38;5;167;01mKeyboardInterrupt\u001b[39;00m:\n\u001b[0;32m   1119\u001b[0m     \u001b[38;5;66;03m# re-raise KeyboardInterrupt, to truncate traceback\u001b[39;00m\n\u001b[1;32m-> 1120\u001b[0m     \u001b[38;5;28;01mraise\u001b[39;00m \u001b[38;5;167;01mKeyboardInterrupt\u001b[39;00m(\u001b[38;5;124m\"\u001b[39m\u001b[38;5;124mInterrupted by user\u001b[39m\u001b[38;5;124m\"\u001b[39m) \u001b[38;5;28;01mfrom\u001b[39;00m \u001b[38;5;28mNone\u001b[39m\n\u001b[0;32m   1121\u001b[0m \u001b[38;5;28;01mexcept\u001b[39;00m \u001b[38;5;167;01mException\u001b[39;00m:\n\u001b[0;32m   1122\u001b[0m     \u001b[38;5;28mself\u001b[39m\u001b[38;5;241m.\u001b[39mlog\u001b[38;5;241m.\u001b[39mwarning(\u001b[38;5;124m\"\u001b[39m\u001b[38;5;124mInvalid Message:\u001b[39m\u001b[38;5;124m\"\u001b[39m, exc_info\u001b[38;5;241m=\u001b[39m\u001b[38;5;28;01mTrue\u001b[39;00m)\n",
      "\u001b[1;31mKeyboardInterrupt\u001b[0m: Interrupted by user"
     ]
    }
   ],
   "source": [
    "print(\"Welcome!, you can perform basic(add,mul,sub,div) operations using this calculator\")\n",
    "\n",
    "while True:\n",
    "    try:\n",
    "        #Taking input\n",
    "        n1 = int(input(\"enter the number1: \"))\n",
    "        n2 = int(input(\"enter the number2: \"))\n",
    "    except :\n",
    "        print(\"enter valid number\")\n",
    "\n",
    "    #select operation\n",
    "    operation = int(input(\"\"\"please select operation:\n",
    "                            1. enter 1 for addition\n",
    "                            2. enter 2 for substraction\n",
    "                            3. enter 3 for multiplication\n",
    "                            4. enter 4 for division\n",
    "    \n",
    "                          \"\"\"))\n",
    "    \n",
    "    if operation ==1:\n",
    "        print(f\" {n1} + {n2} = {n1+n2}\")\n",
    "              \n",
    "    elif operation ==2:\n",
    "             print(f\" {n1} - {n2} = {n1-n2}\")\n",
    "                            \n",
    "    elif operation ==3:\n",
    "             print(f\" {n1} * {n2} = {n1*n2}\")\n",
    "                            \n",
    "    elif operation ==4:\n",
    "              print(f\" {n1} / {n2} = {n1/n2}\")\n",
    "    else:\n",
    "        print(\"please select valid input!\")\n",
    "\n",
    "              \n",
    "    \n",
    "    \n"
   ]
  },
  {
   "cell_type": "code",
   "execution_count": null,
   "id": "b82fa23b",
   "metadata": {},
   "outputs": [],
   "source": []
  }
 ],
 "metadata": {
  "kernelspec": {
   "display_name": "Python 3 (ipykernel)",
   "language": "python",
   "name": "python3"
  },
  "language_info": {
   "codemirror_mode": {
    "name": "ipython",
    "version": 3
   },
   "file_extension": ".py",
   "mimetype": "text/x-python",
   "name": "python",
   "nbconvert_exporter": "python",
   "pygments_lexer": "ipython3",
   "version": "3.9.12"
  }
 },
 "nbformat": 4,
 "nbformat_minor": 5
}
