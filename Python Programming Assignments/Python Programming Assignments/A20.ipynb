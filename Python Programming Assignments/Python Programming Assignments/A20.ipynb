{
 "cells": [
  {
   "cell_type": "markdown",
   "id": "cb82364d",
   "metadata": {},
   "source": [
    "### Question1:Create a function that takes a list of strings and integers, and filters out the list so that it returns a list of integers only."
   ]
  },
  {
   "cell_type": "raw",
   "id": "8c3d71f9",
   "metadata": {},
   "source": [
    "Examples\n",
    "filter_list([1, 2, 3, \"a\", \"b\", 4]) ➞ [1, 2, 3, 4]\n",
    "\n",
    "filter_list([\"A\", 0, \"Edabit\", 1729, \"Python\", \"1729\"]) ➞ [0, 1729]\n",
    "\n",
    "filter_list([\"Nothing\", \"here\"]) ➞ []"
   ]
  },
  {
   "cell_type": "code",
   "execution_count": 2,
   "id": "a8be81d6",
   "metadata": {},
   "outputs": [],
   "source": [
    "def filter_list(lst):\n",
    "    int_list =list()\n",
    "    for i in lst:\n",
    "        if type(i)==int :\n",
    "            int_list.append(i)\n",
    "    return f\"Only integers list is {int_list}\""
   ]
  },
  {
   "cell_type": "code",
   "execution_count": 5,
   "id": "6ef03e15",
   "metadata": {},
   "outputs": [
    {
     "data": {
      "text/plain": [
       "'Only integers list is [0, 1729]'"
      ]
     },
     "execution_count": 5,
     "metadata": {},
     "output_type": "execute_result"
    }
   ],
   "source": [
    "filter_list([1, 2, 3, \"a\", \"b\", 4])\n",
    "\n",
    "filter_list([\"A\", 0, \"Edabit\", 1729, \"Python\", \"1729\"])\n",
    "\n",
    "# filter_list([\"Nothing\", \"here\"])"
   ]
  },
  {
   "cell_type": "markdown",
   "id": "5b7bb3c5",
   "metadata": {},
   "source": [
    "### Question2:Given a list of numbers, create a function which returns the list but with each element's index in the list added to itself. This means you add 0 to the number at index 0, add 1 to the number at index 1, etc..."
   ]
  },
  {
   "cell_type": "raw",
   "id": "f929b623",
   "metadata": {},
   "source": [
    "Examples\n",
    "add_indexes([0, 0, 0, 0, 0]) ➞ [0, 1, 2, 3, 4]\n",
    "\n",
    "add_indexes([1, 2, 3, 4, 5]) ➞ [1, 3, 5, 7, 9]\n",
    "\n",
    "add_indexes([5, 4, 3, 2, 1]) ➞ [5, 5, 5, 5, 5]"
   ]
  },
  {
   "cell_type": "code",
   "execution_count": 6,
   "id": "6e5d7958",
   "metadata": {},
   "outputs": [],
   "source": [
    "def add_indexes(num_list):\n",
    "    new_list = []\n",
    "    for num in range(len(num_list)):\n",
    "        new_list.append(num_list[num]+num)\n",
    "    return new_list"
   ]
  },
  {
   "cell_type": "code",
   "execution_count": 7,
   "id": "124d5953",
   "metadata": {},
   "outputs": [
    {
     "name": "stdout",
     "output_type": "stream",
     "text": [
      "[0, 1, 2, 3, 4]\n",
      "[1, 3, 5, 7, 9]\n",
      "[5, 5, 5, 5, 5]\n"
     ]
    }
   ],
   "source": [
    "print(add_indexes([0, 0,0, 0, 0]))\n",
    "print(add_indexes([1, 2, 3, 4, 5]))\n",
    "print(add_indexes([5, 4, 3, 2, 1]))"
   ]
  },
  {
   "cell_type": "markdown",
   "id": "5d405f7d",
   "metadata": {},
   "source": [
    "### Question3:Create a function that takes the height and radius of a cone as arguments and returns the volume of the cone rounded to the nearest hundredth. See the resources tab for the formula.\n",
    " "
   ]
  },
  {
   "cell_type": "raw",
   "id": "0b211e1b",
   "metadata": {},
   "source": [
    "Examples\n",
    "cone_volume(3, 2) ➞ 12.57"
   ]
  },
  {
   "cell_type": "code",
   "execution_count": 8,
   "id": "981217e3",
   "metadata": {},
   "outputs": [
    {
     "name": "stdout",
     "output_type": "stream",
     "text": [
      "12.56\n"
     ]
    }
   ],
   "source": [
    "def cone_volume(h,r):\n",
    "    volume = (3.14)*(r*r)*(h)/3\n",
    "    return volume\n",
    "\n",
    "print(cone_volume(3, 2))"
   ]
  },
  {
   "cell_type": "markdown",
   "id": "939f78ff",
   "metadata": {},
   "source": [
    "### Question4:This Triangular Number Sequence is generated from a pattern of dots that form a triangle. The first 5 numbers of the sequence, or dots, are: 1, 3, 6, 10, 15 This means that the first triangle has just one dot, the second one has three dots, the third one has 6 dots and so on.Write a function that gives the number of dots with its corresponding triangle number of the sequence."
   ]
  },
  {
   "cell_type": "raw",
   "id": "ee754b29",
   "metadata": {},
   "source": [
    "Examples\n",
    "triangle(1) ➞ 1\n",
    "\n",
    "triangle(6) ➞ 21\n",
    "\n",
    "triangle(215) ➞ 23220"
   ]
  },
  {
   "cell_type": "code",
   "execution_count": 18,
   "id": "56280cb1",
   "metadata": {},
   "outputs": [],
   "source": [
    "def triangle(triangle_no):\n",
    "    dots = 0\n",
    "    for  i in range(1,triangle_no+1):\n",
    "        dots = dots +i\n",
    "    return dots\n",
    "        \n",
    "    \n",
    "\n",
    "    "
   ]
  },
  {
   "cell_type": "code",
   "execution_count": 19,
   "id": "c16c43c1",
   "metadata": {},
   "outputs": [
    {
     "data": {
      "text/plain": [
       "21"
      ]
     },
     "execution_count": 19,
     "metadata": {},
     "output_type": "execute_result"
    }
   ],
   "source": [
    "triangle(6)"
   ]
  },
  {
   "cell_type": "markdown",
   "id": "b496f8a2",
   "metadata": {},
   "source": [
    "### Question5:Create a function that takes a list of numbers between 1 and 10 (excluding one number) and returns the missing number."
   ]
  },
  {
   "cell_type": "raw",
   "id": "972cc4e5",
   "metadata": {},
   "source": [
    "Examples\n",
    "missing_num([1, 2, 3, 4, 6, 7, 8, 9, 10]) ➞ 5\n",
    "\n",
    "missing_num([7, 2, 3, 6, 5, 9, 1, 4, 8]) ➞ 10\n",
    "\n",
    "missing_num([10, 5, 1, 2, 4, 6, 8, 3, 9]) ➞ 7"
   ]
  },
  {
   "cell_type": "code",
   "execution_count": 30,
   "id": "3804e5fd",
   "metadata": {},
   "outputs": [],
   "source": [
    "def missing_num(num_list):\n",
    "    referance = [i for i in range(1,11)]\n",
    "    for num in referance:\n",
    "        if num not  in num_list:\n",
    "           \n",
    "            return num\n",
    "        continue\n",
    "        \n",
    "    "
   ]
  },
  {
   "cell_type": "code",
   "execution_count": 31,
   "id": "56570494",
   "metadata": {},
   "outputs": [
    {
     "name": "stdout",
     "output_type": "stream",
     "text": [
      "5\n",
      "10\n",
      "7\n"
     ]
    }
   ],
   "source": [
    "print(missing_num([1, 2, 3, 4, 6, 7, 8, 9, 10]))\n",
    "print(missing_num([7, 2, 3, 6, 5, 9, 1, 4, 8])) \n",
    "print(missing_num([10, 5, 1, 2, 4, 6, 8, 3, 9]))      "
   ]
  },
  {
   "cell_type": "code",
   "execution_count": null,
   "id": "6799f746",
   "metadata": {},
   "outputs": [],
   "source": []
  }
 ],
 "metadata": {
  "kernelspec": {
   "display_name": "Python 3 (ipykernel)",
   "language": "python",
   "name": "python3"
  },
  "language_info": {
   "codemirror_mode": {
    "name": "ipython",
    "version": 3
   },
   "file_extension": ".py",
   "mimetype": "text/x-python",
   "name": "python",
   "nbconvert_exporter": "python",
   "pygments_lexer": "ipython3",
   "version": "3.9.12"
  }
 },
 "nbformat": 4,
 "nbformat_minor": 5
}
