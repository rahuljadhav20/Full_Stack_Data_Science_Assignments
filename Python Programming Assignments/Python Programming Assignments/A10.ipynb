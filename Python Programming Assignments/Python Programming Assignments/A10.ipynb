{
 "cells": [
  {
   "cell_type": "markdown",
   "metadata": {},
   "source": [
    "### 1.)Write a Python program to find sum of elements in list"
   ]
  },
  {
   "cell_type": "code",
   "execution_count": 1,
   "metadata": {},
   "outputs": [
    {
     "name": "stdout",
     "output_type": "stream",
     "text": [
      "sum of elements of list are  20\n"
     ]
    }
   ],
   "source": [
    "# program to find sum of elements in list\n",
    "\n",
    "# function which will return sum of elements of list\n",
    "def sum_of_list(lst):\n",
    "    for i in lst:\n",
    "        if type(i) != int:\n",
    "            raise Exception(\"found other than type int elements !\")\n",
    "    return sum(lst)\n",
    "\n",
    "lst = [1,2,3,4,10]\n",
    "\n",
    "# printing the sum of list\n",
    "print('sum of elements of list are ',sum_of_list(lst))"
   ]
  },
  {
   "cell_type": "markdown",
   "metadata": {},
   "source": [
    "### 2. Write a Python program to Multiply all numbers in the list"
   ]
  },
  {
   "cell_type": "code",
   "execution_count": 2,
   "metadata": {},
   "outputs": [
    {
     "name": "stdout",
     "output_type": "stream",
     "text": [
      "[1, 2, 3, 4, 10]\n",
      "sum of elements of list are  240\n"
     ]
    }
   ],
   "source": [
    "# program to find multiplication of elements in list\n",
    "\n",
    "# function which will return multiplication of elements of list\n",
    "def mul_of_list(lst):\n",
    "    mul = 1\n",
    "    for i in lst:\n",
    "        if type(i) != int:\n",
    "            raise Exception(\"found other than type int elements !\")\n",
    "        else:\n",
    "            mul = mul * i\n",
    "    return mul\n",
    "\n",
    "lst = [1,2,3,4,10]\n",
    "\n",
    "# printing multiplication of the lst\n",
    "print(lst)\n",
    "print('sum of elements of list are ',mul_of_list(lst))"
   ]
  },
  {
   "cell_type": "markdown",
   "metadata": {},
   "source": [
    "### 3. Write a Python program to find smallest number in a list"
   ]
  },
  {
   "cell_type": "code",
   "execution_count": 3,
   "metadata": {},
   "outputs": [
    {
     "name": "stdout",
     "output_type": "stream",
     "text": [
      "[4, 6, 2, 6, 9]\n",
      "Smallest number in the list is  2\n"
     ]
    }
   ],
   "source": [
    "# program to find smallest number in a list\n",
    "\n",
    "# function to check smallest number in list\n",
    "def smallest(lst):\n",
    "    smallest = lst[0]\n",
    "    for i in lst:\n",
    "        if i < smallest:\n",
    "            smallest = i\n",
    "    return smallest\n",
    "\n",
    "lst = [4,6,2,6,9]\n",
    "\n",
    "# printing the smallest number\n",
    "print(lst)\n",
    "print('Smallest number in the list is ',smallest(lst))"
   ]
  },
  {
   "cell_type": "markdown",
   "metadata": {},
   "source": [
    "### 4. Write a Python program to find largest number in a list"
   ]
  },
  {
   "cell_type": "code",
   "execution_count": 4,
   "metadata": {},
   "outputs": [
    {
     "name": "stdout",
     "output_type": "stream",
     "text": [
      "[4, 6, 2, 6, 9]\n",
      "largest number in the list is  9\n"
     ]
    }
   ],
   "source": [
    "# program to find largest number in a list\n",
    "\n",
    "# function to check largest number in list\n",
    "def largest(lst):\n",
    "    largest = lst[0]\n",
    "    for i in lst:\n",
    "        if i > largest:\n",
    "            largest = i\n",
    "    return largest\n",
    "\n",
    "lst = [4,6,2,6,9]\n",
    "\n",
    "# printing the smallest number\n",
    "print(lst)\n",
    "print('largest number in the list is ',largest(lst))"
   ]
  },
  {
   "cell_type": "markdown",
   "metadata": {},
   "source": [
    "### 5.)Write a Python program to find second largest number in a list"
   ]
  },
  {
   "cell_type": "code",
   "execution_count": 5,
   "metadata": {},
   "outputs": [
    {
     "name": "stdout",
     "output_type": "stream",
     "text": [
      "[4, 6, 2, 6, 9]\n",
      "2nd largest number in the list is  6\n"
     ]
    }
   ],
   "source": [
    "# program to find largest number in a list\n",
    "\n",
    "# function to check largest number in list\n",
    "def largest(lst):\n",
    "    largest = lst[0]\n",
    "    for i in lst:\n",
    "        if i > largest:\n",
    "            largest = i\n",
    "    return largest\n",
    "\n",
    "def second_largest(lst):\n",
    "    temp = lst\n",
    "    temp.remove(largest(lst))\n",
    "    return largest(temp)\n",
    "\n",
    "lst = [4,6,2,6,9]\n",
    "\n",
    "# printing the smallest number\n",
    "print(lst)\n",
    "print('2nd largest number in the list is ',second_largest(lst))"
   ]
  },
  {
   "cell_type": "markdown",
   "metadata": {},
   "source": [
    "### 6.Write a Python program to find N largest elements from a list"
   ]
  },
  {
   "cell_type": "code",
   "execution_count": 6,
   "metadata": {},
   "outputs": [
    {
     "name": "stdout",
     "output_type": "stream",
     "text": [
      "[10, 8, 7]\n"
     ]
    }
   ],
   "source": [
    "def find_n_largest_elements(list1, n):\n",
    "\n",
    "      \"\"\"\n",
    "      Finds the N largest elements from a list.\n",
    "      \"\"\"\n",
    "\n",
    "      # Sort the list in descending order.\n",
    "      list1.sort(reverse=True)\n",
    "\n",
    "      # Return the first N elements.\n",
    "      return list1[:n]\n",
    "\n",
    "\n",
    "\n",
    "# Create a list of numbers.\n",
    "list1 = [10, 5, 2, 1, 8, 7, 6, 3, 4]\n",
    "\n",
    "# Find the 3 largest elements from the list.\n",
    "n = 3\n",
    "largest_elements = find_n_largest_elements(list1, n)\n",
    "\n",
    "# Print the largest elements.\n",
    "print(largest_elements)\n",
    "\n",
    "    "
   ]
  },
  {
   "cell_type": "markdown",
   "metadata": {},
   "source": [
    "### 7.Write a Python program to print even numbers in a list"
   ]
  },
  {
   "cell_type": "code",
   "execution_count": 7,
   "metadata": {},
   "outputs": [
    {
     "name": "stdout",
     "output_type": "stream",
     "text": [
      "2 is a even number\n",
      "4 is a even number\n",
      "6 is a even number\n",
      "8 is a even number\n",
      "14 is a even number\n"
     ]
    }
   ],
   "source": [
    "# program to print even numbers in a list\n",
    "\n",
    "def even(lst):\n",
    "    for i in lst:\n",
    "        if i%2 == 0:\n",
    "            print(i,\"is a even number\")\n",
    "            \n",
    "lst = [2,4,5,6,7,8,9,14]\n",
    "\n",
    "even(lst)"
   ]
  },
  {
   "cell_type": "markdown",
   "metadata": {},
   "source": [
    "### 8. Write a Python program to print odd numbers in a List"
   ]
  },
  {
   "cell_type": "code",
   "execution_count": 8,
   "metadata": {},
   "outputs": [
    {
     "name": "stdout",
     "output_type": "stream",
     "text": [
      "5 is a odd number\n",
      "7 is a odd number\n",
      "9 is a odd number\n"
     ]
    }
   ],
   "source": [
    "# program to print odd numbers in a list\n",
    "\n",
    "def odd(lst):\n",
    "    for i in lst:\n",
    "        if i%2 == 1:\n",
    "            print(i,\"is a odd number\")\n",
    "            \n",
    "lst = [2,4,5,6,7,8,9,14]\n",
    "\n",
    "odd(lst)"
   ]
  },
  {
   "cell_type": "markdown",
   "metadata": {},
   "source": [
    "### 9. Write a Python program to Remove empty List from List"
   ]
  },
  {
   "cell_type": "code",
   "execution_count": 9,
   "metadata": {},
   "outputs": [
    {
     "name": "stdout",
     "output_type": "stream",
     "text": [
      "after removing empty list : [2, 3, [3], 6, '66', 'fd']\n"
     ]
    }
   ],
   "source": [
    "# program to remove empty list from list\n",
    "\n",
    "def rem_empty(lst):\n",
    "    for i in lst:\n",
    "        if type(i) == list:\n",
    "            if len(i) == 0:\n",
    "                lst.remove(i)\n",
    "    return lst\n",
    "\n",
    "lst = [2,3,[3,],[],6,'66',[],'fd',[]]\n",
    "\n",
    "print(\"after removing empty list :\",rem_empty(lst))"
   ]
  },
  {
   "cell_type": "markdown",
   "metadata": {},
   "source": [
    "### 10. Write a Python program to Cloning or Copying a list"
   ]
  },
  {
   "cell_type": "code",
   "execution_count": 10,
   "metadata": {},
   "outputs": [
    {
     "name": "stdout",
     "output_type": "stream",
     "text": [
      "clone of lst :  [4, 6, 6, 7, 8, 9]\n"
     ]
    }
   ],
   "source": [
    "# prgram to copy a list\\\n",
    "\n",
    "def clone(lst):\n",
    "    l = lst[0:]\n",
    "    return l\n",
    "lst = [4,6,6,7,8,9]\n",
    "\n",
    "print(\"clone of lst : \",clone(lst))"
   ]
  },
  {
   "cell_type": "markdown",
   "metadata": {},
   "source": [
    "### 11. Write a Python program to Count occurrences of an element in a list"
   ]
  },
  {
   "cell_type": "code",
   "execution_count": 11,
   "metadata": {},
   "outputs": [
    {
     "name": "stdout",
     "output_type": "stream",
     "text": [
      "[3, 3, 5, 6, 7, 8, 9, 7, 7, 3, 5]\n",
      "7 occurs 3 number of times in list\n"
     ]
    }
   ],
   "source": [
    "# program to count occurences of the element in a list\n",
    "\n",
    "def occur(lst,element):\n",
    "    count = 0\n",
    "    for i in lst:\n",
    "        if i == element:\n",
    "            count += 1\n",
    "    return count\n",
    "\n",
    "lst = [3,3,5,6,7,8,9,7,7,3,5]\n",
    "\n",
    "print(lst)\n",
    "print(\"7 occurs\",occur(lst,7),\"number of times in list\")"
   ]
  },
  {
   "cell_type": "code",
   "execution_count": null,
   "metadata": {},
   "outputs": [],
   "source": []
  }
 ],
 "metadata": {
  "kernelspec": {
   "display_name": "Python 3 (ipykernel)",
   "language": "python",
   "name": "python3"
  },
  "language_info": {
   "codemirror_mode": {
    "name": "ipython",
    "version": 3
   },
   "file_extension": ".py",
   "mimetype": "text/x-python",
   "name": "python",
   "nbconvert_exporter": "python",
   "pygments_lexer": "ipython3",
   "version": "3.9.12"
  }
 },
 "nbformat": 4,
 "nbformat_minor": 4
}
