{
 "cells": [
  {
   "cell_type": "markdown",
   "id": "3bfe8249",
   "metadata": {},
   "source": [
    "### Question 1:Define a class with a generator which can iterate the numbers, which are divisible by 7, between a given range 0 and n."
   ]
  },
  {
   "cell_type": "code",
   "execution_count": 12,
   "id": "f6d89f47",
   "metadata": {},
   "outputs": [
    {
     "name": "stdout",
     "output_type": "stream",
     "text": [
      "0\n",
      "7\n",
      "14\n",
      "21\n",
      "28\n",
      "35\n",
      "42\n",
      "49\n"
     ]
    }
   ],
   "source": [
    "class DivisibleBySevenGenerator:\n",
    "    def __init__(self, n):\n",
    "        self.n = n\n",
    "\n",
    "    def generate_divisible_by_seven(self):\n",
    "        for num in range(0, self.n + 1):\n",
    "            if num % 7 == 0:\n",
    "                yield num\n",
    "\n",
    "# Creating an instance of the class\n",
    "n = 50\n",
    "generator_instance = DivisibleBySevenGenerator(n)\n",
    "\n",
    "# Using the generator to iterate through divisible numbers\n",
    "for num in generator_instance.generate_divisible_by_seven():\n",
    "    print(num)\n"
   ]
  },
  {
   "cell_type": "markdown",
   "id": "3d067441",
   "metadata": {},
   "source": [
    "### Question 2:Write a program to compute the frequency of the words from the input. The output should output after sorting the key alphanumerically. "
   ]
  },
  {
   "cell_type": "raw",
   "id": "d2501d88",
   "metadata": {},
   "source": [
    "Suppose the following input is supplied to the program:\n",
    "\n",
    "New to Python or choosing between Python 2 and Python 3? Read Python 2 or Python 3.\n",
    "\n",
    "Then, the output should be:\n",
    "\n",
    "2:2\n",
    "\n",
    "3.:1\n",
    "\n",
    "3?:1\n",
    "\n",
    "New:1\n",
    "\n",
    "Python:5\n",
    "\n",
    "Read:1\n",
    "\n",
    "and:1\n",
    "\n",
    "between:1\n",
    "\n",
    "choosing:1\n",
    "\n",
    "or:2\n",
    "\n",
    "to:1"
   ]
  },
  {
   "cell_type": "code",
   "execution_count": 33,
   "id": "2fd551c2",
   "metadata": {},
   "outputs": [],
   "source": [
    "def get_count(input_string:str):\n",
    "\n",
    "    count_dict = {}\n",
    "    \n",
    "    #get the list of words\n",
    "    input_string_list = input_string.split()\n",
    "    \n",
    "    #get unique keys\n",
    "    keys = set(input_string_list)\n",
    "    \n",
    "    #get the cont of each key\n",
    "    \n",
    "    for key in sorted( keys):\n",
    "        count_dict[key] = input_string_list.count(key)\n",
    "        \n",
    "    return count_dict"
   ]
  },
  {
   "cell_type": "code",
   "execution_count": 34,
   "id": "8f106be5",
   "metadata": {},
   "outputs": [
    {
     "data": {
      "text/plain": [
       "{'2': 2,\n",
       " '3.': 1,\n",
       " '3?': 1,\n",
       " 'New': 1,\n",
       " 'Python': 5,\n",
       " 'Read': 1,\n",
       " 'and': 1,\n",
       " 'between': 1,\n",
       " 'choosing': 1,\n",
       " 'or': 2,\n",
       " 'to': 1}"
      ]
     },
     "execution_count": 34,
     "metadata": {},
     "output_type": "execute_result"
    }
   ],
   "source": [
    "#testing \n",
    "a = 'New to Python or choosing between Python 2 and Python 3? Read Python 2 or Python 3.'\n",
    "get_count(a)"
   ]
  },
  {
   "cell_type": "markdown",
   "id": "d35b9e2e",
   "metadata": {},
   "source": [
    "### Question 3:\n",
    "Define a class Person and its two child classes: Male and Female. All classes have a method \"getGender\" which can print \"Male\" for Male class and \"Female\" for Female class."
   ]
  },
  {
   "cell_type": "code",
   "execution_count": 6,
   "id": "a1dab002",
   "metadata": {},
   "outputs": [],
   "source": [
    "class Person:\n",
    "    def getGender(self):\n",
    "        pass  # This method will be overridden in child classes\n",
    "\n",
    "class Male(Person):\n",
    "    def getGender(self):\n",
    "        print(\"Male\")\n",
    "\n",
    "class Female(Person):\n",
    "    def getGender(self):\n",
    "        print(\"Female\")\n"
   ]
  },
  {
   "cell_type": "code",
   "execution_count": 8,
   "id": "d60876c3",
   "metadata": {},
   "outputs": [
    {
     "name": "stdout",
     "output_type": "stream",
     "text": [
      "Male\n"
     ]
    }
   ],
   "source": [
    "male_person = Male()\n",
    "male_person.getGender()   # Output: Male"
   ]
  },
  {
   "cell_type": "code",
   "execution_count": 9,
   "id": "7ecac308",
   "metadata": {},
   "outputs": [
    {
     "name": "stdout",
     "output_type": "stream",
     "text": [
      "Female\n"
     ]
    }
   ],
   "source": [
    "female_person = Female()\n",
    "female_person.getGender() # Output: Female"
   ]
  },
  {
   "cell_type": "markdown",
   "id": "9e2f3d07",
   "metadata": {},
   "source": [
    "### Question 4:Please write a program to generate all sentences where subject is in [\"I\", \"You\"] and verb is in [\"Play\", \"Love\"] and the object is in [\"Hockey\",\"Football\"]."
   ]
  },
  {
   "cell_type": "code",
   "execution_count": 11,
   "id": "7b739e8a",
   "metadata": {},
   "outputs": [
    {
     "name": "stdout",
     "output_type": "stream",
     "text": [
      "I Play Hockey\n",
      "I Play Football\n",
      "I Love Hockey\n",
      "I Love Football\n",
      "You Play Hockey\n",
      "You Play Football\n",
      "You Love Hockey\n",
      "You Love Football\n"
     ]
    }
   ],
   "source": [
    "subject= [\"I\", \"You\"] \n",
    "verb = [\"Play\", \"Love\"]\n",
    "Object = [\"Hockey\",\"Football\"]\n",
    "\n",
    "for s in subject:\n",
    "    for v in verb:\n",
    "        for o in Object:\n",
    "            print(s,v,o)"
   ]
  },
  {
   "cell_type": "markdown",
   "id": "26241e9a",
   "metadata": {},
   "source": [
    "### Question 5:Please write a program to compress and decompress the string \"hello world!hello world!hello world!hello world!\"."
   ]
  },
  {
   "cell_type": "code",
   "execution_count": 35,
   "id": "cdf2c22d",
   "metadata": {},
   "outputs": [],
   "source": [
    "import zlib\n",
    "\n",
    "def compress_string(input_string):\n",
    "    compressed_data = zlib.compress(input_string.encode())\n",
    "    return compressed_data\n",
    "\n",
    "def decompress_string(compressed_data):\n",
    "    decompressed_string = zlib.decompress(compressed_data).decode()\n",
    "    return decompressed_string"
   ]
  },
  {
   "cell_type": "code",
   "execution_count": 36,
   "id": "ab3d4207",
   "metadata": {},
   "outputs": [
    {
     "name": "stdout",
     "output_type": "stream",
     "text": [
      "Compressed Data: b'x\\x9c\\xcbH\\xcd\\xc9\\xc9W(\\xcf/\\xcaIQ\\xcc \\x82\\r\\x00\\xbd[\\x11\\xf5'\n"
     ]
    }
   ],
   "source": [
    "input_string = \"hello world!hello world!hello world!hello world!\"\n",
    "compressed_data = compress_string(input_string)\n",
    "print(\"Compressed Data:\", compressed_data)"
   ]
  },
  {
   "cell_type": "code",
   "execution_count": 37,
   "id": "e827d2fd",
   "metadata": {},
   "outputs": [
    {
     "name": "stdout",
     "output_type": "stream",
     "text": [
      "Decompressed String: hello world!hello world!hello world!hello world!\n"
     ]
    }
   ],
   "source": [
    "decompressed_string = decompress_string(compressed_data)\n",
    "print(\"Decompressed String:\", decompressed_string)"
   ]
  },
  {
   "cell_type": "markdown",
   "id": "f6267662",
   "metadata": {},
   "source": [
    "### Question 6:Please write a binary search function which searches an item in a sorted list. The function should return the index of element to be searched in the list."
   ]
  },
  {
   "cell_type": "code",
   "execution_count": 38,
   "id": "a622c179",
   "metadata": {},
   "outputs": [],
   "source": [
    "def binary_search(list, item):\n",
    "    low = 0\n",
    "    high = len(list) - 1\n",
    "    while low <= high:\n",
    "        mid = (low + high) // 2\n",
    "        if list[mid] == item:\n",
    "            return mid\n",
    "        elif list[mid] < item:\n",
    "            low = mid + 1\n",
    "        else:\n",
    "            high = mid - 1\n",
    "    return -1\n"
   ]
  },
  {
   "cell_type": "code",
   "execution_count": 40,
   "id": "e8b2e686",
   "metadata": {},
   "outputs": [
    {
     "name": "stdout",
     "output_type": "stream",
     "text": [
      "The item is at index: 3\n"
     ]
    }
   ],
   "source": [
    "list = [1, 3, 5, 7, 9]\n",
    "item = 7\n",
    "\n",
    "index = binary_search(list, item)\n",
    "\n",
    "if index == -1:\n",
    "    print(\"The item is not in the list.\")\n",
    "else:\n",
    "    print(\"The item is at index:\", index)\n"
   ]
  },
  {
   "cell_type": "code",
   "execution_count": null,
   "id": "e3b7bc33",
   "metadata": {},
   "outputs": [],
   "source": []
  }
 ],
 "metadata": {
  "kernelspec": {
   "display_name": "Python 3 (ipykernel)",
   "language": "python",
   "name": "python3"
  },
  "language_info": {
   "codemirror_mode": {
    "name": "ipython",
    "version": 3
   },
   "file_extension": ".py",
   "mimetype": "text/x-python",
   "name": "python",
   "nbconvert_exporter": "python",
   "pygments_lexer": "ipython3",
   "version": "3.9.12"
  }
 },
 "nbformat": 4,
 "nbformat_minor": 5
}
