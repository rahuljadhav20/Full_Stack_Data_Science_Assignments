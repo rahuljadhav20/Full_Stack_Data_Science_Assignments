{
 "cells": [
  {
   "cell_type": "markdown",
   "metadata": {},
   "source": [
    "### 1. Create a function that takes a number as an argument and returns True or False depending on whether the number is symmetrical or not. A number is symmetrical when it is the same as  its reverse.\n"
   ]
  },
  {
   "cell_type": "raw",
   "metadata": {},
   "source": [
    "Examples\n",
    "is_symmetrical(7227) ➞ True\n",
    "is_symmetrical(12567) ➞ False\n",
    "is_symmetrical(44444444) ➞ True\n",
    "is_symmetrical(9939) ➞ False\n",
    "is_symmetrical(1112111) ➞ True"
   ]
  },
  {
   "cell_type": "code",
   "execution_count": 1,
   "metadata": {},
   "outputs": [
    {
     "name": "stdout",
     "output_type": "stream",
     "text": [
      "True\n",
      "False\n",
      "True\n",
      "False\n",
      "True\n"
     ]
    }
   ],
   "source": [
    "# program to check  number is symmetrical or not\n",
    "def is_symmetrical(num):\n",
    "    if str(num) == str(num)[::-1]:\n",
    "        return 'True'\n",
    "    else:\n",
    "        return \"False\"\n",
    "        \n",
    "print(is_symmetrical(7227))\n",
    "print(is_symmetrical(12567))\n",
    "print(is_symmetrical(44444444))\n",
    "print(is_symmetrical(9939))\n",
    "print(is_symmetrical(1112111))         "
   ]
  },
  {
   "cell_type": "markdown",
   "metadata": {},
   "source": [
    "### 2. Given a string of numbers separated by a comma and space, return the product of the numbers."
   ]
  },
  {
   "cell_type": "raw",
   "metadata": {},
   "source": [
    "Examples\n",
    "multiply_nums(\"2, 3\") ➞ 6\n",
    "multiply_nums(\"1, 2, 3, 4\") ➞ 24\n",
    "multiply_nums(\"54, 75, 453, 0\") ➞ 0\n",
    "multiply_nums(\"10, -2\") ➞ -20"
   ]
  },
  {
   "cell_type": "code",
   "execution_count": 2,
   "metadata": {},
   "outputs": [
    {
     "name": "stdout",
     "output_type": "stream",
     "text": [
      "6\n",
      "24\n",
      "0\n",
      "-20\n"
     ]
    }
   ],
   "source": [
    "# program to calculate the product of number given in string\n",
    "def multiply_nums(num_str):\n",
    "    temp = num_str.split(',')\n",
    "    mul = 1\n",
    "    for t in temp:\n",
    "        mul = mul * int(t)\n",
    "        \n",
    "    print(mul)\n",
    "\n",
    "multiply_nums(\"2, 3\")\n",
    "multiply_nums(\"1, 2, 3, 4\")\n",
    "multiply_nums(\"54, 75, 453, 0\")\n",
    "multiply_nums(\"10, -2\")"
   ]
  },
  {
   "cell_type": "markdown",
   "metadata": {},
   "source": [
    "### 3. Create a function that squares every digit of a number."
   ]
  },
  {
   "cell_type": "raw",
   "metadata": {},
   "source": [
    "Examples\n",
    "square_digits(9119) ➞ 811181\n",
    "square_digits(2483) ➞ 416649\n",
    "square_digits(3212) ➞ 9414\n",
    "Notes\n",
    "The function receives an integer and must return an integer."
   ]
  },
  {
   "cell_type": "code",
   "execution_count": 15,
   "metadata": {
    "scrolled": true
   },
   "outputs": [
    {
     "name": "stdout",
     "output_type": "stream",
     "text": [
      "811181\n",
      "416649\n",
      "9414\n"
     ]
    }
   ],
   "source": [
    "# program to return square of the number\n",
    "import numpy as np\n",
    "\n",
    "def square_digits(num):\n",
    "    num_list =[int(digit) for digit in  list(str(num))]\n",
    "    sqr_list=list(np.square(num_list))\n",
    "    \n",
    "    for num in range(len(sqr_list)):\n",
    "        sqr_list[num] = str(sqr_list[num])\n",
    "    \n",
    "    return ''.join(sqr_list)\n",
    "        \n",
    "        \n",
    "        \n",
    "\n",
    "print(square_digits(9119))\n",
    "print(square_digits(2483))\n",
    "print(square_digits(3212) )"
   ]
  },
  {
   "cell_type": "markdown",
   "metadata": {},
   "source": [
    "### 4. Create a function that sorts a list and removes all duplicate items from it."
   ]
  },
  {
   "cell_type": "raw",
   "metadata": {},
   "source": [
    "Examples\n",
    "setify([1, 3, 3, 5, 5]) ➞ [1, 3, 5]\n",
    "setify([4, 4, 4, 4]) ➞ [4]\n",
    "setify([5, 7, 8, 9, 10, 15]) ➞ [5, 7, 8, 9, 10, 15]\n",
    "setify([3, 3, 3, 2, 1]) ➞ [1, 2, 3]"
   ]
  },
  {
   "cell_type": "code",
   "execution_count": 17,
   "metadata": {},
   "outputs": [
    {
     "name": "stdout",
     "output_type": "stream",
     "text": [
      "[1, 3, 5]\n",
      "[4]\n",
      "[5, 7, 8, 9, 10, 15]\n",
      "[1, 2, 3]\n"
     ]
    }
   ],
   "source": [
    "# program which sort list and removes all duplicates items\n",
    "\n",
    "def setify(lst):\n",
    "    st = set(lst)\n",
    "    lst = list(st)\n",
    "    lst.sort()\n",
    "    print(lst)\n",
    "setify([1, 3, 3, 5, 5])\n",
    "setify([4, 4, 4, 4]) \n",
    "setify([5, 7, 8, 9, 10, 15]) \n",
    "setify([3, 3, 3, 2, 1])    \n",
    "    "
   ]
  },
  {
   "cell_type": "markdown",
   "metadata": {},
   "source": [
    "### 5.Create a function that returns the mean of all digits."
   ]
  },
  {
   "cell_type": "raw",
   "metadata": {},
   "source": [
    "Examples\n",
    "mean(42) ➞ 3\n",
    "mean(12345) ➞ 3\n",
    "mean(666) ➞ 6"
   ]
  },
  {
   "cell_type": "code",
   "execution_count": 18,
   "metadata": {},
   "outputs": [
    {
     "name": "stdout",
     "output_type": "stream",
     "text": [
      "mean of digits :  3.0\n",
      "mean of digits :  3.0\n",
      "mean of digits :  6.0\n"
     ]
    }
   ],
   "source": [
    "# program to calculate the mean of the digits\n",
    "\n",
    "def mean(num):\n",
    "    num = str(num)\n",
    "    summation = 0\n",
    "    for n in num:\n",
    "        summation += int(n)\n",
    "    mean = summation/len(num)\n",
    "    \n",
    "    print(\"mean of digits : \",mean)\n",
    "    \n",
    "mean(42)\n",
    "mean(12345)\n",
    "mean(666)\n"
   ]
  },
  {
   "cell_type": "code",
   "execution_count": null,
   "metadata": {},
   "outputs": [],
   "source": []
  }
 ],
 "metadata": {
  "kernelspec": {
   "display_name": "Python 3 (ipykernel)",
   "language": "python",
   "name": "python3"
  },
  "language_info": {
   "codemirror_mode": {
    "name": "ipython",
    "version": 3
   },
   "file_extension": ".py",
   "mimetype": "text/x-python",
   "name": "python",
   "nbconvert_exporter": "python",
   "pygments_lexer": "ipython3",
   "version": "3.9.12"
  }
 },
 "nbformat": 4,
 "nbformat_minor": 4
}
