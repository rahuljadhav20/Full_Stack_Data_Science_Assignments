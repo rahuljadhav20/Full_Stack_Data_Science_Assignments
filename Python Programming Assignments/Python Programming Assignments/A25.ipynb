{
 "cells": [
  {
   "cell_type": "markdown",
   "id": "63fefd5c",
   "metadata": {},
   "source": [
    "### Question1:Create a function that takes three integer arguments (a, b, c) and returns the amount of integers which are of equal value."
   ]
  },
  {
   "cell_type": "raw",
   "id": "85cf995b",
   "metadata": {},
   "source": [
    "Examples\n",
    "equal(3, 4, 3) ➞ 2\n",
    "\n",
    "equal(1, 1, 1) ➞ 3\n",
    "\n",
    "equal(3, 4, 1) ➞ 0 \n",
    "Notes\n",
    "Your function must return 0, 2 or 3."
   ]
  },
  {
   "cell_type": "code",
   "execution_count": 30,
   "id": "c14c1a31",
   "metadata": {},
   "outputs": [
    {
     "name": "stdout",
     "output_type": "stream",
     "text": [
      "There are 2 intergers of equal value\n",
      "There are 3 intergers of equal value\n",
      "There are 0 intergers of equal value\n"
     ]
    }
   ],
   "source": [
    "def equal(a,b,c):\n",
    "    lst =[a,b,c]\n",
    "    count = 0\n",
    "    for integer in set(lst):\n",
    "        if lst.count(integer)>1:\n",
    "            count = lst.count(integer)\n",
    "    \n",
    "    print(f\"There are {count} intergers of equal value\")\n",
    "        \n",
    "equal(3,4,3)\n",
    "equal(1,1,1)\n",
    "equal(3,45,4)"
   ]
  },
  {
   "cell_type": "markdown",
   "id": "7b07411b",
   "metadata": {},
   "source": [
    "### Question2:Write a function that converts a dictionary into a list of keys-values tuples."
   ]
  },
  {
   "cell_type": "raw",
   "id": "c3be9556",
   "metadata": {},
   "source": [
    "Examples\n",
    "dict_to_list({\"D\": 1,\"B\": 2,\"C\": 3}) ➞ [(\"B\", 2), (\"C\", 3),(D\",1)]\n",
    "\n",
    "dict_to_list({\n",
    "  \"likes\": 2,\n",
    "  \"dislikes\": 3,\n",
    "  \"followers\": 10}) ➞ [(\"dislikes\", 3), (\"followers\", 10), (\"likes\", 2)]\n",
    "Notes\n",
    "Return the elements in the list in alphabetical order."
   ]
  },
  {
   "cell_type": "code",
   "execution_count": 47,
   "id": "dca9342e",
   "metadata": {},
   "outputs": [
    {
     "name": "stdout",
     "output_type": "stream",
     "text": [
      "[('B', 2), ('C', 3), ('D', 1)]\n",
      "[('dislikes', 3), ('followers', 10), ('likes', 2)]\n"
     ]
    }
   ],
   "source": [
    "def dict_to_list(dictionary:dict):\n",
    "    #make list of key-value tuples\n",
    "    dic_list = list(dictionary.items())\n",
    "    \n",
    "    #sort the elements\n",
    "    dic_list.sort()\n",
    "    \n",
    "    print(dic_list)\n",
    "\n",
    "\n",
    "dict_to_list({\"D\": 1,\"B\": 2,\"C\": 3})\n",
    "dict_to_list({\"likes\": 2,\"dislikes\": 3,\"followers\": 10})"
   ]
  },
  {
   "cell_type": "markdown",
   "id": "cbcaba55",
   "metadata": {},
   "source": [
    "### Question3:Write a function that creates a dictionary with each (key, value) pair being the (lower case, upper case) versions of a letter, respectively."
   ]
  },
  {
   "cell_type": "raw",
   "id": "8c8f3162",
   "metadata": {},
   "source": [
    "Examples\n",
    "mapping([\"p\", \"s\"]) ➞ { \"p\": \"P\", \"s\": \"S\" }\n",
    "\n",
    "mapping([\"a\", \"b\", \"c\"]) ➞ { \"a\": \"A\", \"b\": \"B\", \"c\": \"C\" }\n",
    "\n",
    "mapping([\"a\", \"v\", \"y\", \"z\"]) ➞ { \"a\": \"A\", \"v\": \"V\", \"y\": \"Y\", \"z\": \"Z\" }\n",
    "Notes\n",
    "All of the letters in the input list will always be lowercase."
   ]
  },
  {
   "cell_type": "code",
   "execution_count": 49,
   "id": "4ac1b060",
   "metadata": {},
   "outputs": [
    {
     "name": "stdout",
     "output_type": "stream",
     "text": [
      "{'p': 'P', 's': 'S'}\n",
      "{'a': 'A', 'b': 'B', 'c': 'C'}\n",
      "{'a': 'A', 'v': 'V', 'y': 'Y', 'z': 'Z'}\n"
     ]
    }
   ],
   "source": [
    "\n",
    "def mapping(lst):\n",
    "    dic = {}\n",
    "    for letter in lst:\n",
    "        dic[letter] = letter.upper()\n",
    "    \n",
    "    print(dic)\n",
    "\n",
    "mapping([\"p\", \"s\"])\n",
    "\n",
    "mapping([\"a\", \"b\", \"c\"])\n",
    "\n",
    "mapping([\"a\", \"v\", \"y\", \"z\"])\n",
    "\n"
   ]
  },
  {
   "cell_type": "markdown",
   "id": "4ca6dd86",
   "metadata": {},
   "source": [
    "### Question4:Write a function, that replaces all vowels in a string with a specified vowel."
   ]
  },
  {
   "cell_type": "raw",
   "id": "ad5ceaf3",
   "metadata": {},
   "source": [
    "Examples\n",
    "vow_replace(\"apples and bananas\", \"u\") ➞ \"upplus und bununus\"\n",
    "vow_replace(\"cheese casserole\", \"o\") ➞ \"chooso cossorolo\"\n",
    "vow_replace(\"stuffed jalapeno poppers\", \"e\") ➞ \"steffed jelepene peppers\"\n",
    "Notes\n",
    "All words will be lowercase. Y is not considered a vowel."
   ]
  },
  {
   "cell_type": "code",
   "execution_count": 58,
   "id": "43d40d35",
   "metadata": {},
   "outputs": [],
   "source": [
    "def vow_replace(string,vowel):\n",
    "    vowel_list = ['a','i','e','o','u']\n",
    "    string = list(string)\n",
    "    for s in string:\n",
    "        if s in vowel_list:\n",
    "            string[string.index(s)] = vowel\n",
    "            \n",
    "    return ''.join(string)\n",
    "\n",
    "    \n",
    "    \n",
    "    "
   ]
  },
  {
   "cell_type": "code",
   "execution_count": 59,
   "id": "508bab70",
   "metadata": {},
   "outputs": [
    {
     "name": "stdout",
     "output_type": "stream",
     "text": [
      "upplus und bununus\n",
      "chooso cossorolo\n",
      "steffed jelepene peppers\n"
     ]
    }
   ],
   "source": [
    "print(vow_replace(\"apples and bananas\", \"u\"))\n",
    "print(vow_replace(\"cheese casserole\", \"o\"))\n",
    "print(vow_replace(\"stuffed jalapeno poppers\", \"e\"))"
   ]
  },
  {
   "cell_type": "markdown",
   "id": "081f485a",
   "metadata": {},
   "source": [
    "### 5. Create a function that takes a string as input and capitalizes a letter if its ASCII code is even and returns its lower case version if its ASCII code is odd.\n",
    "Examples\n",
    "ascii_capitalize(\"to be or not to be!\") ➞ \"To Be oR NoT To Be!\"\n",
    "ascii_capitalize(\"THE LITTLE MERMAID\") ➞ \"THe LiTTLe meRmaiD\"\n",
    "ascii_capitalize(\"Oh what a beautiful morning.\") ➞ \"oH wHaT a BeauTiFuLmoRNiNg.\""
   ]
  },
  {
   "cell_type": "code",
   "execution_count": 20,
   "id": "92ccd8cc",
   "metadata": {},
   "outputs": [
    {
     "name": "stdout",
     "output_type": "stream",
     "text": [
      "To Be oR NoT To Be!\n",
      "THe LiTTLe meRmaiD\n",
      "oH wHaT a BeauTiFuL moRNiNg.\n"
     ]
    }
   ],
   "source": [
    "def ascii_capitalize(string):\n",
    "    string = list(string)\n",
    "    \n",
    "    for s in range(len(string)):\n",
    "        if ord(string[s])%2 == 0:\n",
    "            string[s] = string[s].upper()\n",
    "        else:\n",
    "            string[s] = string[s].lower()\n",
    "            \n",
    "    print(''.join(string))\n",
    "\n",
    "ascii_capitalize(\"to be or not to be!\")\n",
    "ascii_capitalize(\"THE LITTLE MERMAID\")\n",
    "ascii_capitalize(\"Oh what a beautiful morning.\")"
   ]
  }
 ],
 "metadata": {
  "kernelspec": {
   "display_name": "Python 3 (ipykernel)",
   "language": "python",
   "name": "python3"
  },
  "language_info": {
   "codemirror_mode": {
    "name": "ipython",
    "version": 3
   },
   "file_extension": ".py",
   "mimetype": "text/x-python",
   "name": "python",
   "nbconvert_exporter": "python",
   "pygments_lexer": "ipython3",
   "version": "3.9.12"
  }
 },
 "nbformat": 4,
 "nbformat_minor": 5
}
