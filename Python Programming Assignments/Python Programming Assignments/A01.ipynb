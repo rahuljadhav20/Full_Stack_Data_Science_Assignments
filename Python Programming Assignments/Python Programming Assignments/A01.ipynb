{
 "cells": [
  {
   "cell_type": "markdown",
   "id": "79cb47f0",
   "metadata": {},
   "source": [
    "#### 1. Write a Python program to print \"Hello Python\"?"
   ]
  },
  {
   "cell_type": "code",
   "execution_count": 1,
   "id": "f9c7ec68",
   "metadata": {},
   "outputs": [
    {
     "name": "stdout",
     "output_type": "stream",
     "text": [
      "Hello\n"
     ]
    }
   ],
   "source": [
    "word = \"Hello\"\n",
    "print(word)"
   ]
  },
  {
   "cell_type": "markdown",
   "id": "7b8b3cba",
   "metadata": {},
   "source": [
    "#### 2. Write a Python program to do arithmetical operations addition and division.?"
   ]
  },
  {
   "cell_type": "code",
   "execution_count": 2,
   "id": "78c0eb96",
   "metadata": {
    "scrolled": true
   },
   "outputs": [
    {
     "name": "stdout",
     "output_type": "stream",
     "text": [
      "enter no.1: 3\n",
      "Enter no.2: 3\n",
      "Addition of no.s 3 and 3 is : 6\n",
      "Division of no.s 3 and 3 is :  1.0\n"
     ]
    }
   ],
   "source": [
    "a = int(input(\"enter no.1: \"))\n",
    "b = int(input(\"Enter no.2: \"))\n",
    "\n",
    "#Addition\n",
    "print(\"Addition of no.s {} and {} is :\".format(a,b),a+b)\n",
    "\n",
    "\n",
    "\n",
    "#Division\n",
    "print(\"Division of no.s {} and {} is : \".format(a,b),a/b)"
   ]
  },
  {
   "cell_type": "markdown",
   "id": "4506b6ce",
   "metadata": {},
   "source": [
    "#### 3.\tWrite a Python program to find the area of a triangle?\n"
   ]
  },
  {
   "cell_type": "code",
   "execution_count": 4,
   "id": "282cceb1",
   "metadata": {},
   "outputs": [
    {
     "name": "stdout",
     "output_type": "stream",
     "text": [
      "enter height value in cm:50\n",
      "enter breadth value in cm:2\n",
      "Area of triangle is 50.0 cm^2\n"
     ]
    }
   ],
   "source": [
    "# Area of triangle \n",
    "\n",
    "height = int(input(\"enter height value in cm:\"))\n",
    "breadth = int(input(\"enter breadth value in cm:\"))\n",
    "\n",
    "Area_of_triangle = (height*breadth)/2\n",
    "\n",
    "print(\"Area of triangle is {area} cm^2\".format(area=Area_of_triangle))\n"
   ]
  },
  {
   "cell_type": "markdown",
   "id": "c88301c2",
   "metadata": {},
   "source": [
    "#### 4.\tWrite a Python program to swap two variables"
   ]
  },
  {
   "cell_type": "code",
   "execution_count": 8,
   "id": "e66e7a85",
   "metadata": {},
   "outputs": [
    {
     "name": "stdout",
     "output_type": "stream",
     "text": [
      "before swapping a:variable_1 and b:variable_2\n",
      "variables after swapping a:variable_2  and b:variable_1\n"
     ]
    }
   ],
   "source": [
    "# Before swapping \n",
    "a = \"variable_1\"\n",
    "b = \"variable_2\"\n",
    "\n",
    "print(\"before swapping a:{} and b:{}\".format(a,b))\n",
    "\n",
    "#After Swapping\n",
    "a,b=b,a\n",
    "\n",
    "print(\"variables after swapping a:{}  and b:{}\".format(a,b))"
   ]
  },
  {
   "cell_type": "markdown",
   "id": "d6943596",
   "metadata": {},
   "source": [
    "#### 5. Write a Python program to generate a random number"
   ]
  },
  {
   "cell_type": "code",
   "execution_count": 9,
   "id": "86a88f01",
   "metadata": {},
   "outputs": [
    {
     "name": "stdout",
     "output_type": "stream",
     "text": [
      "22\n"
     ]
    }
   ],
   "source": [
    "import random\n",
    "\n",
    "random_no  = random.randint(1,100)\n",
    "\n",
    "print(random_no)"
   ]
  }
 ],
 "metadata": {
  "kernelspec": {
   "display_name": "Python 3 (ipykernel)",
   "language": "python",
   "name": "python3"
  },
  "language_info": {
   "codemirror_mode": {
    "name": "ipython",
    "version": 3
   },
   "file_extension": ".py",
   "mimetype": "text/x-python",
   "name": "python",
   "nbconvert_exporter": "python",
   "pygments_lexer": "ipython3",
   "version": "3.9.12"
  }
 },
 "nbformat": 4,
 "nbformat_minor": 5
}
