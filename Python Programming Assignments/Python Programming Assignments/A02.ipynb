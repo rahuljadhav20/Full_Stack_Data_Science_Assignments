{
 "cells": [
  {
   "cell_type": "markdown",
   "id": "62e8e4f3",
   "metadata": {},
   "source": [
    "### 1.\tWrite a Python program to convert kilometers to miles?"
   ]
  },
  {
   "cell_type": "code",
   "execution_count": 1,
   "id": "b70c7178",
   "metadata": {},
   "outputs": [
    {
     "name": "stdout",
     "output_type": "stream",
     "text": [
      "please enter the kilometers value:2\n",
      "2 kilometers is equivalent to 1.24274238 miles\n"
     ]
    }
   ],
   "source": [
    "#Take the kilometers value from user\n",
    "km = int(input(\"please enter the kilometers value:\"))\n",
    "\n",
    "#converting km into miles by using formula\n",
    "miles = km*0.62137119\n",
    "\n",
    "#get results\n",
    "print(f\"{km} kilometers is equivalent to {miles} miles\")"
   ]
  },
  {
   "cell_type": "markdown",
   "id": "97e58876",
   "metadata": {},
   "source": [
    "### 2.\tWrite a Python program to convert Celsius to Fahrenheit?"
   ]
  },
  {
   "cell_type": "code",
   "execution_count": 2,
   "id": "219cf1e4",
   "metadata": {},
   "outputs": [
    {
     "name": "stdout",
     "output_type": "stream",
     "text": [
      "Enter the temperature in Celsius: 10\n",
      "10.0 degrees Celsius is equal to 50.0 degrees Fahrenheit\n"
     ]
    }
   ],
   "source": [
    "# Import the necessary modules\n",
    "import math\n",
    "\n",
    "# Get the Celsius temperature from the user\n",
    "celsius = float(input(\"Enter the temperature in Celsius: \"))\n",
    "\n",
    "# Calculate the Fahrenheit temperature\n",
    "fahrenheit = (celsius * 9 / 5) + 32\n",
    "\n",
    "# Print the Fahrenheit temperature\n",
    "print(f\"{celsius} degrees Celsius is equal to {fahrenheit} degrees Fahrenheit\")\n"
   ]
  },
  {
   "cell_type": "markdown",
   "id": "e4113d5f",
   "metadata": {},
   "source": [
    "### 3. \tWrite a Python program to display calendar?"
   ]
  },
  {
   "cell_type": "code",
   "execution_count": 3,
   "id": "7be01e43",
   "metadata": {},
   "outputs": [
    {
     "name": "stdout",
     "output_type": "stream",
     "text": [
      "Enter the year: 2023\n",
      "Enter the month: 10\n",
      "    October 2023\n",
      "Mo Tu We Th Fr Sa Su\n",
      "                   1\n",
      " 2  3  4  5  6  7  8\n",
      " 9 10 11 12 13 14 15\n",
      "16 17 18 19 20 21 22\n",
      "23 24 25 26 27 28 29\n",
      "30 31\n",
      "\n"
     ]
    }
   ],
   "source": [
    "import calendar\n",
    "\n",
    "# Ask the user for the year and month\n",
    "year = int(input(\"Enter the year: \"))\n",
    "month = int(input(\"Enter the month: \"))\n",
    "\n",
    "# Display the calendar\n",
    "print(calendar.month(year, month))"
   ]
  }
 ],
 "metadata": {
  "kernelspec": {
   "display_name": "Python 3 (ipykernel)",
   "language": "python",
   "name": "python3"
  },
  "language_info": {
   "codemirror_mode": {
    "name": "ipython",
    "version": 3
   },
   "file_extension": ".py",
   "mimetype": "text/x-python",
   "name": "python",
   "nbconvert_exporter": "python",
   "pygments_lexer": "ipython3",
   "version": "3.9.12"
  }
 },
 "nbformat": 4,
 "nbformat_minor": 5
}
