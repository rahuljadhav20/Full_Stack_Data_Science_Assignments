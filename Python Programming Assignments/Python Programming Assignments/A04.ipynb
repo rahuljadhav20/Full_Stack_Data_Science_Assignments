{
 "cells": [
  {
   "cell_type": "markdown",
   "id": "c0dbf8df",
   "metadata": {},
   "source": [
    "###  1.) Write a python program to find the Factorial of a Number"
   ]
  },
  {
   "cell_type": "code",
   "execution_count": 1,
   "id": "bef00adf",
   "metadata": {},
   "outputs": [
    {
     "name": "stdout",
     "output_type": "stream",
     "text": [
      "please enter number:5\n",
      "Factorial of number 5 is, 120\n"
     ]
    }
   ],
   "source": [
    "try:\n",
    "    #define number to find factorial\n",
    "    number = int(input(\"please enter number:\"))\n",
    "    \n",
    "    #taking by default factorial of 0 is 1  \n",
    "    factorial = 1\n",
    "    \n",
    "    num = 1\n",
    "    \n",
    "        \n",
    "    while num <=number:\n",
    "        factorial = factorial*num\n",
    "        num = num+1\n",
    "    else:\n",
    "        print(f\"Factorial of number {number} is, {factorial}\")\n",
    "              \n",
    "except Exception as e:\n",
    "              print(e)\n"
   ]
  },
  {
   "cell_type": "markdown",
   "id": "b79acc22",
   "metadata": {},
   "source": [
    "###  2.) Write a Python Program to Display the multiplication Table"
   ]
  },
  {
   "cell_type": "code",
   "execution_count": 2,
   "id": "0c0407d6",
   "metadata": {},
   "outputs": [
    {
     "name": "stdout",
     "output_type": "stream",
     "text": [
      "Enter the number17\n",
      "Multiplication Table of 17 is:\n",
      "17\n",
      "34\n",
      "51\n",
      "68\n",
      "85\n",
      "102\n",
      "119\n",
      "136\n",
      "153\n",
      "170\n"
     ]
    }
   ],
   "source": [
    "#Take input as integer\n",
    "while True:\n",
    "    try:\n",
    "        \n",
    "        num = int(input('Enter the number'))\n",
    "        print(\"Multiplication Table of %s is:\"%num)\n",
    "        \n",
    "        for i in range (1,11):\n",
    "            print(num*i)\n",
    "            \n",
    "        break\n",
    "    except Exception as e:\n",
    "        print(e)\n",
    "    "
   ]
  },
  {
   "cell_type": "markdown",
   "id": "2e1d64f2",
   "metadata": {},
   "source": [
    "### 3.) Write a Python Program to print the fibonacci sequence"
   ]
  },
  {
   "cell_type": "code",
   "execution_count": 3,
   "id": "7ce815c9",
   "metadata": {},
   "outputs": [
    {
     "name": "stdout",
     "output_type": "stream",
     "text": [
      "enter the number:6\n",
      "fibonacci of 0 is 1\n",
      "fibonacci of 1 is 1\n",
      "fibonacci of 2 is 2\n",
      "fibonacci of 3 is 3\n",
      "fibonacci of 4 is 5\n",
      "fibonacci of 5 is 8\n"
     ]
    }
   ],
   "source": [
    "num =int(input(\"enter the number:\"))\n",
    "\n",
    "#as we know fibonacci of 0,1 is 1\n",
    "a = 0\n",
    "b = 1\n",
    "\n",
    "c = a+b\n",
    "\n",
    "\n",
    "for n in range(num):\n",
    "    print(f\"fibonacci of {n} is {c}\")\n",
    "    a,b=b,c\n",
    "    if n ==0:\n",
    "        continue\n",
    "    c= a+b"
   ]
  },
  {
   "cell_type": "markdown",
   "id": "b36f5baf",
   "metadata": {},
   "source": [
    "###  4.) Write a Python Program to Check Armstrong Number"
   ]
  },
  {
   "cell_type": "code",
   "execution_count": 6,
   "id": "d2f11dd7",
   "metadata": {},
   "outputs": [
    {
     "name": "stdout",
     "output_type": "stream",
     "text": [
      "150 is not a armstrong number\n"
     ]
    }
   ],
   "source": [
    "\n",
    "# Function takes the argument number\n",
    "def armstrong(num):\n",
    "    # count contains number of digits in the number\n",
    "    count = len(str(num))\n",
    "    \n",
    "    mul = 0\n",
    "    for i in range(0,count):\n",
    "        mul = mul + int(str(num)[i])**count\n",
    "#         print(mul)\n",
    "    \n",
    "    # checking if mul == num or not\n",
    "    if mul == num:\n",
    "        print(num,\"is a armstrong number.\")\n",
    "    else:\n",
    "        print(num,\"is not a armstrong number\")\n",
    "\n",
    "# calling the armstrong function\n",
    "armstrong(150)"
   ]
  },
  {
   "cell_type": "markdown",
   "id": "2deff78d",
   "metadata": {},
   "source": [
    "### 5) Write a python program to find Armstrong number in an Interval"
   ]
  },
  {
   "cell_type": "code",
   "execution_count": 7,
   "id": "5084bbf7",
   "metadata": {},
   "outputs": [
    {
     "name": "stdout",
     "output_type": "stream",
     "text": [
      "Enter starting point: 10\n",
      "Enter Ending point: 500\n",
      "153 is a armstrong number \n",
      "370 is a armstrong number \n",
      "371 is a armstrong number \n",
      "407 is a armstrong number \n"
     ]
    }
   ],
   "source": [
    "\n",
    "def armstrong(num):\n",
    "    #no. of digits in num\n",
    "    count = len(str(num))\n",
    "    \n",
    "    mul = 0\n",
    "    for i in range(count):\n",
    "        mul = mul + int(str(num)[i])**count\n",
    "        \n",
    "    if mul==num:\n",
    "        print(num,\"is a armstrong number \")\n",
    "        \n",
    "\n",
    "#print armstrong number in given interval\n",
    "start = int(input(\"Enter starting point: \"))\n",
    "end = int(input(\"Enter Ending point: \"))\n",
    "\n",
    "for number in range(start,end+1):\n",
    "    \n",
    "    armstrong(number)\n",
    "\n",
    "    \n"
   ]
  },
  {
   "cell_type": "markdown",
   "id": "ef6178df",
   "metadata": {},
   "source": [
    "### 6) Write a python program to find the sum of Natural Numbers"
   ]
  },
  {
   "cell_type": "code",
   "execution_count": 8,
   "id": "60265db2",
   "metadata": {},
   "outputs": [
    {
     "name": "stdout",
     "output_type": "stream",
     "text": [
      "Enter the number5\n",
      "Sum of natural for n=5 is 15.0\n"
     ]
    }
   ],
   "source": [
    "#By using formula\n",
    "num = int(input(\"Enter the number\"))\n",
    "\n",
    "sum_ = (num*(num+1))/2\n",
    "\n",
    "print(f\"Sum of natural for n={num} is {sum_}\")"
   ]
  },
  {
   "cell_type": "code",
   "execution_count": 9,
   "id": "a132d149",
   "metadata": {},
   "outputs": [
    {
     "name": "stdout",
     "output_type": "stream",
     "text": [
      "Enter the number5\n",
      "sum of natural no.s till 5 is 15\n"
     ]
    }
   ],
   "source": [
    "#mannualy\n",
    "num = int(input(\"Enter the number\"))\n",
    "add = 0\n",
    "for i in range(1,num+1):\n",
    "    add = add + i\n",
    "    \n",
    "print(\"sum of natural no.s till {} is {}\".format(num,add))"
   ]
  },
  {
   "cell_type": "code",
   "execution_count": null,
   "id": "18cedcdd",
   "metadata": {},
   "outputs": [],
   "source": []
  }
 ],
 "metadata": {
  "kernelspec": {
   "display_name": "Python 3 (ipykernel)",
   "language": "python",
   "name": "python3"
  },
  "language_info": {
   "codemirror_mode": {
    "name": "ipython",
    "version": 3
   },
   "file_extension": ".py",
   "mimetype": "text/x-python",
   "name": "python",
   "nbconvert_exporter": "python",
   "pygments_lexer": "ipython3",
   "version": "3.9.12"
  }
 },
 "nbformat": 4,
 "nbformat_minor": 5
}
