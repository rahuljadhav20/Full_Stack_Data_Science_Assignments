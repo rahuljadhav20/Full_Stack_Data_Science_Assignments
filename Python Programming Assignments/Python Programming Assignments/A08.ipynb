{
 "cells": [
  {
   "cell_type": "markdown",
   "id": "4379dc17",
   "metadata": {},
   "source": [
    "### 1.Write a Python Program to Add Two Matrices"
   ]
  },
  {
   "cell_type": "code",
   "execution_count": 45,
   "id": "1246afdf",
   "metadata": {},
   "outputs": [
    {
     "name": "stdout",
     "output_type": "stream",
     "text": [
      "Final matrix after addition is :\n",
      "[14, 10, 13]\n",
      "[4, 9, 10]\n",
      "[6, -6, 11]\n"
     ]
    }
   ],
   "source": [
    "a = [[6,8,6],\n",
    "     [-2,5,-3],\n",
    "     [8,3,4]]\n",
    "\n",
    "b = [[8,2,7],\n",
    "     [6,4,13],\n",
    "     [-2,-9,7]]\n",
    "\n",
    "c = [[],\n",
    "     [],\n",
    "     []]\n",
    "\n",
    "#To check the no. of rows and columns for both matrices are same or not\n",
    "if len(a) == len(b):\n",
    "    if len(a[0]) == len(b[0]):\n",
    "        # applying Logic for matrix addtion \n",
    "        for i in range(len(a)):\n",
    "            for j in range(len(a[i])):\n",
    "                element = a[i][j] + b[i][j]\n",
    "                c[i].insert(j,element)\n",
    "    else:\n",
    "        print(\"No. of columns must be same\")\n",
    "        \n",
    "else:\n",
    "    print(\"No. of rows for both matrices must be same \")\n",
    "\n",
    "print('Final matrix after addition is :')\n",
    "\n",
    "for i in c:\n",
    "    print(i)\n",
    "        "
   ]
  },
  {
   "cell_type": "markdown",
   "id": "cce8e8f5",
   "metadata": {},
   "source": [
    "###  2. Write a Python Program to Multiply Two Matrices"
   ]
  },
  {
   "cell_type": "code",
   "execution_count": 124,
   "id": "c8c503d6",
   "metadata": {},
   "outputs": [
    {
     "name": "stdout",
     "output_type": "stream",
     "text": [
      "Here no. of columns of first matrix is equal to no. of rows of second matrix therefore,\n",
      "\n",
      "Ouput matrix will be of order 3 * 3,\n",
      "\n",
      "The matrix obtained after multiplication is : \n",
      "[84, -10]\n",
      "[20, 43]\n",
      "[74, -8]\n"
     ]
    }
   ],
   "source": [
    "a = [[6,8,6],\n",
    "     [-2,5,-3],\n",
    "     [8,3,4]]\n",
    "\n",
    "m1 = len(a)    #no.of rows in a\n",
    "n1 = len(a[0]) #no of columns in a\n",
    "\n",
    "b = [[8,2],\n",
    "     [6,4],\n",
    "     [-2,-9]]\n",
    "\n",
    "m2 = len(b)    #no.of rows in b\n",
    "n2 = len(b[0]) #no of columns in b\n",
    "\n",
    "#check the condition for multiplication of matrices\n",
    "if n1==m2:\n",
    "    print(\"Here no. of columns of first matrix is equal to no. of rows of second matrix therefore,\\n\")\n",
    "    #creating final matrix structure\n",
    "    final = []\n",
    "    for row in range(m1):\n",
    "        final.append([])\n",
    "        for column in range(n2):\n",
    "            final[row].append([])\n",
    "    print(f\"Ouput matrix will be of order {n1} * {m2},\\n\")\n",
    "    \n",
    "    # implemeting logic for multiplication\n",
    "    for row in range(n1):\n",
    "        for column in range(n2):\n",
    "            final[row][column] =0\n",
    "            for i in range(m2):\n",
    "                final[row][column] = final[row][column]+ (a[row][i] * b[i][column])    \n",
    "\n",
    "print(\"The matrix obtained after multiplication is : \")\n",
    "for rows in final:\n",
    "    print(rows)\n",
    "        \n"
   ]
  },
  {
   "cell_type": "markdown",
   "id": "4c22ab74",
   "metadata": {},
   "source": [
    "###  3.Write a Python Program to Transpose a Matrix"
   ]
  },
  {
   "cell_type": "code",
   "execution_count": 100,
   "id": "fc43f453",
   "metadata": {},
   "outputs": [
    {
     "name": "stdout",
     "output_type": "stream",
     "text": [
      "Original matrix is :\n",
      "[1, 2, 3]\n",
      "[3, 5, 7]\n",
      "And\n",
      "Transposed matrix is :\n",
      "[1, 3]\n",
      "[2, 5]\n",
      "[3, 7]\n"
     ]
    }
   ],
   "source": [
    "matrix = [[1,2,3],\n",
    "         [3,5,7]]\n",
    "print(\"Original matrix is :\")   \n",
    "for i in matrix:\n",
    "    print(i)\n",
    "print('And')\n",
    "m = len(matrix)\n",
    "n= len(matrix[0])\n",
    "\n",
    "result = [[matrix[j][i] for j in range(len(matrix))] for i in range(len(matrix[0]))]\n",
    "print(\"Transposed matrix is :\")\n",
    "for i in result:\n",
    "    print(i)\n"
   ]
  },
  {
   "cell_type": "markdown",
   "id": "335f6fbd",
   "metadata": {},
   "source": [
    "### 4. Write a Python Program to Sort Words in Alphabetic Order"
   ]
  },
  {
   "cell_type": "code",
   "execution_count": 105,
   "id": "077fe388",
   "metadata": {},
   "outputs": [
    {
     "data": {
      "text/plain": [
       "['dkg']"
      ]
     },
     "execution_count": 105,
     "metadata": {},
     "output_type": "execute_result"
    }
   ],
   "source": [
    "'dk g'.split()"
   ]
  },
  {
   "cell_type": "code",
   "execution_count": 113,
   "id": "044e5931",
   "metadata": {
    "scrolled": true
   },
   "outputs": [
    {
     "name": "stdout",
     "output_type": "stream",
     "text": [
      "Enter the word: edcba\n",
      "['e', 'd', 'c', 'b', 'a']\n",
      "a b c d e\n"
     ]
    }
   ],
   "source": [
    "word = input('Enter the word: ')\n",
    "#spliing word into form of list\n",
    "\n",
    "split = list(word)\n",
    "print(split)\n",
    "\n",
    "# sorting list by alphabetical order\n",
    "\n",
    "split.sort()\n",
    "\n",
    "# Joining list letters to make word\n",
    "string = \" \".join(split)\n",
    "print(string)"
   ]
  },
  {
   "cell_type": "markdown",
   "id": "5e669f4c",
   "metadata": {},
   "source": [
    "### 5. Write a Python Program to Remove Punctuation From a String"
   ]
  },
  {
   "cell_type": "code",
   "execution_count": 121,
   "id": "e33381eb",
   "metadata": {},
   "outputs": [],
   "source": [
    "import re\n",
    "\n",
    "def remove_punctuation(string):\n",
    "    \n",
    "      \"\"\"Removes punctuation from a string.\n",
    "\n",
    "      Args:\n",
    "        string: The string to remove punctuation from.\n",
    "\n",
    "      Returns:\n",
    "        A string with the punctuation removed.\n",
    "\n",
    "      \"\"\"\n",
    "\n",
    "      # Create a regular expression to match all punctuation characters.\n",
    "      punctuation = re.compile(r\"[^\\w\\s]\")\n",
    "\n",
    "      # Replace all punctuation characters with spaces.\n",
    "      return punctuation.sub(\"\", string)"
   ]
  },
  {
   "cell_type": "code",
   "execution_count": 122,
   "id": "0961cac2",
   "metadata": {},
   "outputs": [
    {
     "name": "stdout",
     "output_type": "stream",
     "text": [
      "This is a string  with punctuation\n"
     ]
    }
   ],
   "source": [
    "string = \"This is a string ! with punctuation.\"\n",
    "print(remove_punctuation(string))"
   ]
  },
  {
   "cell_type": "code",
   "execution_count": null,
   "id": "9b60c328",
   "metadata": {},
   "outputs": [],
   "source": []
  }
 ],
 "metadata": {
  "kernelspec": {
   "display_name": "Python 3 (ipykernel)",
   "language": "python",
   "name": "python3"
  },
  "language_info": {
   "codemirror_mode": {
    "name": "ipython",
    "version": 3
   },
   "file_extension": ".py",
   "mimetype": "text/x-python",
   "name": "python",
   "nbconvert_exporter": "python",
   "pygments_lexer": "ipython3",
   "version": "3.9.12"
  }
 },
 "nbformat": 4,
 "nbformat_minor": 5
}
