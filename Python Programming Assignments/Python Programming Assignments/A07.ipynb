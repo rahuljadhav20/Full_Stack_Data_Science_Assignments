{
 "cells": [
  {
   "cell_type": "markdown",
   "id": "de26f85f",
   "metadata": {},
   "source": [
    "### 1. Write a python program to find largest element in an array"
   ]
  },
  {
   "cell_type": "code",
   "execution_count": 1,
   "id": "8c8300ae",
   "metadata": {},
   "outputs": [],
   "source": [
    "def find_largest_element(array):\n",
    "    \n",
    "    \"\"\"\n",
    "    Returns:\n",
    "    The largest element in the array.\n",
    "    \"\"\"\n",
    "    largest_element = array[0]\n",
    "    \n",
    "    for element in array:\n",
    "        if element > largest_element:\n",
    "              largest_element = element\n",
    "#         print(largest_element)\n",
    "                \n",
    "    return largest_element\n",
    "\n",
    "\n",
    "\n"
   ]
  },
  {
   "cell_type": "code",
   "execution_count": 2,
   "id": "dfeef533",
   "metadata": {},
   "outputs": [
    {
     "name": "stdout",
     "output_type": "stream",
     "text": [
      "The largest element in the array is: 60\n"
     ]
    }
   ],
   "source": [
    "array = [10, 4, 2, 9, 7, 5, 3, 8, 60, 1]\n",
    "largest_element = find_largest_element(array)\n",
    "print(\"The largest element in the array is:\", largest_element)"
   ]
  },
  {
   "cell_type": "markdown",
   "id": "0c362926",
   "metadata": {},
   "source": [
    "### 2. Write a Python Program to find sum of array"
   ]
  },
  {
   "cell_type": "code",
   "execution_count": 3,
   "id": "87641220",
   "metadata": {},
   "outputs": [
    {
     "name": "stdout",
     "output_type": "stream",
     "text": [
      "15\n"
     ]
    }
   ],
   "source": [
    "from array import array\n",
    "\n",
    "# Array example\n",
    "my_array =  [1, 2, 3, 4, 5]\n",
    "sum_ = 0\n",
    "\n",
    "for i in my_array:\n",
    "    sum_ = sum_ + i\n",
    "\n",
    "print(sum_)"
   ]
  },
  {
   "cell_type": "markdown",
   "id": "7026be7b",
   "metadata": {},
   "source": [
    "### 3. Write a python program for array rotation"
   ]
  },
  {
   "cell_type": "code",
   "execution_count": 4,
   "id": "65eec740",
   "metadata": {},
   "outputs": [],
   "source": [
    "def left_rotate(arr, d):\n",
    "    \"\"\"\n",
    "    Left rotates the array 'arr' by 'd' positions.\n",
    "    \"\"\"\n",
    "    n = len(arr)\n",
    "    d = d % n  # To handle cases where d is greater than the array size\n",
    "    return arr[d:] + arr[:d]\n",
    "\n",
    "def right_rotate(arr, d):\n",
    "    \"\"\"\n",
    "    Right rotates the array 'arr' by 'd' positions.\n",
    "    \"\"\"\n",
    "    n = len(arr)\n",
    "    d = d % n  # To handle cases where d is greater than the array size\n",
    "    return arr[-d:] + arr[:-d]"
   ]
  },
  {
   "cell_type": "code",
   "execution_count": 6,
   "id": "e1d63eff",
   "metadata": {},
   "outputs": [
    {
     "name": "stdout",
     "output_type": "stream",
     "text": [
      "Original array: [1, 2, 3, 4, 5, 6]\n",
      "Rotation distance: 2\n",
      "Left rotated array: [3, 4, 5, 6, 1, 2]\n",
      "Right rotated array: [5, 6, 1, 2, 3, 4]\n"
     ]
    }
   ],
   "source": [
    "# Test the rotations\n",
    "\n",
    "array_to_rotate = [1, 2, 3, 4, 5, 6]\n",
    "rotation_distance = 2\n",
    "\n",
    "print(\"Original array:\", array_to_rotate)\n",
    "print(\"Rotation distance:\", rotation_distance)\n",
    "left_rotated_array = left_rotate(array_to_rotate, rotation_distance)\n",
    "print(\"Left rotated array:\", left_rotated_array)\n",
    "\n",
    "right_rotated_array = right_rotate(array_to_rotate, rotation_distance)\n",
    "print(\"Right rotated array:\", right_rotated_array)"
   ]
  },
  {
   "cell_type": "markdown",
   "id": "67de2fa0",
   "metadata": {},
   "source": [
    "### 4.  write a Python Program to Split the array and add the first part to the end"
   ]
  },
  {
   "cell_type": "code",
   "execution_count": 7,
   "id": "aaeb56d2",
   "metadata": {},
   "outputs": [
    {
     "name": "stdout",
     "output_type": "stream",
     "text": [
      "[5, 6, 7, 8, 9, 1, 2, 3, 4]\n"
     ]
    }
   ],
   "source": [
    "arr = [1,2,3,4,5,6,7,8,9]\n",
    "break_point = 3 #index for  break the array \n",
    "\n",
    "first_part = arr[0:break_point+1]\n",
    "last_part = arr[break_point+1:]\n",
    "\n",
    "array_new = last_part + first_part # new transformed array \n",
    "print(array_new)\n",
    "    "
   ]
  },
  {
   "cell_type": "markdown",
   "id": "35513869",
   "metadata": {},
   "source": [
    "### 5.  Write a Python Program to check if given array is Monotonic"
   ]
  },
  {
   "cell_type": "code",
   "execution_count": 8,
   "id": "e948c5a8",
   "metadata": {},
   "outputs": [
    {
     "name": "stdout",
     "output_type": "stream",
     "text": [
      "False\n"
     ]
    }
   ],
   "source": [
    "array = [3,5,2,3]\n",
    "\n",
    "# Check if given array is Monotonic\n",
    "def isMonotonic(A):\n",
    "    return all(A[i] <= A[i + 1] for i in range(len(A) - 1)) or all(A[i] >= A[i + 1] for i in range(len(A) - 1))\n",
    "\n",
    "\n",
    "# Print required result\n",
    "print(isMonotonic(array))\n",
    "\n"
   ]
  },
  {
   "cell_type": "code",
   "execution_count": null,
   "id": "a878beb6",
   "metadata": {},
   "outputs": [],
   "source": []
  }
 ],
 "metadata": {
  "kernelspec": {
   "display_name": "Python 3 (ipykernel)",
   "language": "python",
   "name": "python3"
  },
  "language_info": {
   "codemirror_mode": {
    "name": "ipython",
    "version": 3
   },
   "file_extension": ".py",
   "mimetype": "text/x-python",
   "name": "python",
   "nbconvert_exporter": "python",
   "pygments_lexer": "ipython3",
   "version": "3.9.12"
  }
 },
 "nbformat": 4,
 "nbformat_minor": 5
}
