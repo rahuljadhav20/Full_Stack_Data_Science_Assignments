{
 "cells": [
  {
   "cell_type": "markdown",
   "id": "11ac2b76",
   "metadata": {},
   "source": [
    "### 1. Write a Python program to check if the given number is a Disarium Number?"
   ]
  },
  {
   "cell_type": "code",
   "execution_count": 1,
   "id": "f94e5f00",
   "metadata": {},
   "outputs": [],
   "source": [
    "'''\n",
    "A Disarium Number is a number that is equal to the sum of its digits raised to the power of their respective positions\n",
    "\n",
    "'''\n",
    "\n",
    "\n",
    "def is_disarium(number):\n",
    "    \n",
    "    sum_of_digits =0\n",
    "    \n",
    "    for index in range(len(number)):\n",
    "        sum_of_digits += int(number[index])**(index+1)\n",
    "        \n",
    "    if sum_of_digits == int(number):\n",
    "        print(f\"{number} is disarium number\")\n",
    "\n",
    "    else:\n",
    "        print(f\"{number} is not disarium number.\")\n",
    "\n",
    "    \n",
    "    \n"
   ]
  },
  {
   "cell_type": "code",
   "execution_count": 2,
   "id": "691cb7dc",
   "metadata": {},
   "outputs": [
    {
     "name": "stdout",
     "output_type": "stream",
     "text": [
      "Enter the number: 89\n",
      "89 is disarium number\n"
     ]
    }
   ],
   "source": [
    "number = input(\"Enter the number: \")\n",
    "is_disarium(number)"
   ]
  },
  {
   "cell_type": "markdown",
   "id": "359e2b5f",
   "metadata": {},
   "source": [
    "### 2. Write a Python program to print all disarium numbers between 1 to 100"
   ]
  },
  {
   "cell_type": "code",
   "execution_count": 3,
   "id": "7ffc6f13",
   "metadata": {},
   "outputs": [
    {
     "name": "stdout",
     "output_type": "stream",
     "text": [
      "Disarium numbers between 1 and 100: [1, 2, 3, 4, 5, 6, 7, 8, 9, 89]\n"
     ]
    }
   ],
   "source": [
    "\n",
    "def is_disarium_number(number):\n",
    "    num_str = str(number)\n",
    "    total = sum(int(digit) ** (index + 1) for index, digit in enumerate(num_str))\n",
    "    return number == total\n",
    "\n",
    "disarium_numbers = [num for num in range(1, 101) if is_disarium_number(num)]\n",
    "print(\"Disarium numbers between 1 and 100:\", disarium_numbers)\n",
    "\n",
    "   "
   ]
  },
  {
   "cell_type": "markdown",
   "id": "87e27056",
   "metadata": {},
   "source": [
    "###  3. Write a Python program to check if the given number is Happy Number"
   ]
  },
  {
   "cell_type": "code",
   "execution_count": 4,
   "id": "d5c8a996",
   "metadata": {},
   "outputs": [
    {
     "name": "stdout",
     "output_type": "stream",
     "text": [
      "28 is a Happy Number.\n"
     ]
    }
   ],
   "source": [
    "def is_happy_number(number):\n",
    "    def square_sum(num):\n",
    "        return sum(int(digit) ** 2 for digit in str(num))\n",
    "\n",
    "    seen = set()\n",
    "    while number != 1 and number not in seen:\n",
    "        seen.add(number)\n",
    "        number = square_sum(number)\n",
    "\n",
    "    return number == 1\n",
    "\n",
    "# Example usage:\n",
    "num = 28\n",
    "if is_happy_number(num):\n",
    "    print(f\"{num} is a Happy Number.\")\n",
    "else:\n",
    "    print(f\"{num} is not a Happy Number.\")\n"
   ]
  },
  {
   "cell_type": "markdown",
   "id": "faa86c7c",
   "metadata": {},
   "source": [
    "### 4.Write a Python program to print all happy numbers between 1 and 100"
   ]
  },
  {
   "cell_type": "code",
   "execution_count": 5,
   "id": "c4ec33e9",
   "metadata": {},
   "outputs": [],
   "source": [
    "numbers = [num for num in range(1,101) if is_happy_number(num)]"
   ]
  },
  {
   "cell_type": "code",
   "execution_count": 6,
   "id": "b371ecb5",
   "metadata": {},
   "outputs": [
    {
     "data": {
      "text/plain": [
       "[1, 7, 10, 13, 19, 23, 28, 31, 32, 44, 49, 68, 70, 79, 82, 86, 91, 94, 97, 100]"
      ]
     },
     "execution_count": 6,
     "metadata": {},
     "output_type": "execute_result"
    }
   ],
   "source": [
    "numbers"
   ]
  },
  {
   "cell_type": "markdown",
   "id": "972abb57",
   "metadata": {},
   "source": [
    "### 5. Write a Python program to determine whether the given number is a Harshad Number"
   ]
  },
  {
   "cell_type": "code",
   "execution_count": 7,
   "id": "977ab7a3",
   "metadata": {},
   "outputs": [
    {
     "name": "stdout",
     "output_type": "stream",
     "text": [
      "Enter Number :120\n",
      "Given number 120 is harshad number\n"
     ]
    }
   ],
   "source": [
    "\"\"\"\n",
    "If a number is divisible by the sum of its digits, then it will be known as a Harshad Number.\n",
    "For example:\n",
    "The number 156 is divisible by the sum (12) of its digits (1, 5, 6 ).\n",
    "Some Harshad numbers are 8, 54, 120, etc.\n",
    "\n",
    "\"\"\"\n",
    "def is_harshad(number):\n",
    "    digit_sum = 0\n",
    "    for i in number:\n",
    "        digit_sum += int(i)\n",
    "        \n",
    "    if int(number) % digit_sum ==0:\n",
    "        \n",
    "        print(f'Given number {number} is harshad number')\n",
    "    else:\n",
    "         print(f'Given number {number} is not  harshad number')\n",
    "            \n",
    "            \n",
    "number = input('Enter Number :')\n",
    "is_harshad(number)"
   ]
  },
  {
   "cell_type": "markdown",
   "id": "e3c96980",
   "metadata": {},
   "source": [
    "### 6. Write a Python program to print pronic numbers between 1 to 100 ."
   ]
  },
  {
   "cell_type": "code",
   "execution_count": 8,
   "id": "27588fda",
   "metadata": {},
   "outputs": [
    {
     "name": "stdout",
     "output_type": "stream",
     "text": [
      "Pronic numbers between 1 and 100: [2, 6, 12, 20, 30, 42, 56, 72, 90]\n"
     ]
    }
   ],
   "source": [
    "\"\"\"\n",
    "The pronic number is a product of two consecutive integers of the form: n(n+1).\n",
    "For example:\n",
    "6 = 2(2+1)= n(n+1),\n",
    "72 =8(8+1) = n(n+1)\n",
    "Some pronic numbers are: 0, 2, 6, 12, 20, 30, 42, 56 etc.\n",
    "\"\"\"\n",
    "\n",
    "def is_pronic(number):\n",
    "    for i in range(1, number):\n",
    "        if i * (i + 1) == number:\n",
    "            return True\n",
    "    return False\n",
    "\n",
    "pronic_numbers = [num for num in range(1, 101) if is_pronic(num)]\n",
    "print(\"Pronic numbers between 1 and 100:\", pronic_numbers)\n"
   ]
  },
  {
   "cell_type": "code",
   "execution_count": null,
   "id": "c989f613",
   "metadata": {},
   "outputs": [],
   "source": []
  }
 ],
 "metadata": {
  "kernelspec": {
   "display_name": "Python 3 (ipykernel)",
   "language": "python",
   "name": "python3"
  },
  "language_info": {
   "codemirror_mode": {
    "name": "ipython",
    "version": 3
   },
   "file_extension": ".py",
   "mimetype": "text/x-python",
   "name": "python",
   "nbconvert_exporter": "python",
   "pygments_lexer": "ipython3",
   "version": "3.9.12"
  }
 },
 "nbformat": 4,
 "nbformat_minor": 5
}
